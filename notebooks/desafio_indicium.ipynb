{
 "cells": [
  {
   "cell_type": "markdown",
   "id": "ea6e25bc",
   "metadata": {},
   "source": [
    "## Introdução\n",
    "\n",
    "Este projeto é o desafio técnico do processo seletivo da Indicium para o programa LightHouse, na trilha de Ciência de Dados.\n",
    "\n",
    "Para esse notebook, será desenvolvido uma análise exploratória do dataset `desafio_indicium_imdb` para entender sobre a estrutura dos dados, analisar cada features, responder algumas perguntas, preparar os dados e criar um modelo de regressão com `sckit-learn`.\n",
    "\n",
    "**Informações do Dataset:**\n",
    "- `Series_Title`: Nome do filme\n",
    "- `Released_Year`: Ano de lançamento\n",
    "- `Certificate`: Classificação etária\n",
    "- `Runtime`: Tempo de duração\n",
    "- `Genre`: Gênero\n",
    "- `IMDB_Rating`: Nota do IMDB\n",
    "- `Overview`: Overview do filme\n",
    "- `Meta_score`: Média ponderada de todas as críticas \n",
    "- `Director`: Diretor\n",
    "- `Star1`: Ator/atriz #1\n",
    "- `Star2`: Ator/atriz #2\n",
    "- `Star3`: Ator/atriz #3\n",
    "- `Star4`: Ator/atriz #4\n",
    "- `No_of_Votes`: Número de votos\n",
    "- `Gross`: Faturamento"
   ]
  },
  {
   "cell_type": "markdown",
   "id": "416e0a62",
   "metadata": {},
   "source": [
    "### Carregando bibliotecas"
   ]
  },
  {
   "cell_type": "code",
   "execution_count": 38,
   "id": "1fb0d99d",
   "metadata": {},
   "outputs": [],
   "source": [
    "import pandas as pd\n",
    "import numpy as np\n",
    "import matplotlib.pyplot as plt\n",
    "import seaborn as sns"
   ]
  },
  {
   "cell_type": "markdown",
   "id": "394138b0",
   "metadata": {},
   "source": [
    "### Carregando os dados e inspeção inicial"
   ]
  },
  {
   "cell_type": "code",
   "execution_count": 39,
   "id": "dfba3266",
   "metadata": {},
   "outputs": [],
   "source": [
    "df = pd.read_csv(\"../data/desafio_indicium_imdb.csv\")"
   ]
  },
  {
   "cell_type": "code",
   "execution_count": 40,
   "id": "9e5f8c73",
   "metadata": {},
   "outputs": [
    {
     "name": "stdout",
     "output_type": "stream",
     "text": [
      "Quantidade de linhas: 999\n",
      "Quantidade de colunas: 16\n"
     ]
    }
   ],
   "source": [
    "print(f\"Quantidade de linhas: {df.shape[0]}\")\n",
    "print(f\"Quantidade de colunas: {df.shape[1]}\")"
   ]
  },
  {
   "cell_type": "code",
   "execution_count": 41,
   "id": "bb6af932",
   "metadata": {},
   "outputs": [
    {
     "name": "stdout",
     "output_type": "stream",
     "text": [
      "<class 'pandas.core.frame.DataFrame'>\n",
      "RangeIndex: 999 entries, 0 to 998\n",
      "Data columns (total 16 columns):\n",
      " #   Column         Non-Null Count  Dtype  \n",
      "---  ------         --------------  -----  \n",
      " 0   Unnamed: 0     999 non-null    int64  \n",
      " 1   Series_Title   999 non-null    object \n",
      " 2   Released_Year  999 non-null    object \n",
      " 3   Certificate    898 non-null    object \n",
      " 4   Runtime        999 non-null    object \n",
      " 5   Genre          999 non-null    object \n",
      " 6   IMDB_Rating    999 non-null    float64\n",
      " 7   Overview       999 non-null    object \n",
      " 8   Meta_score     842 non-null    float64\n",
      " 9   Director       999 non-null    object \n",
      " 10  Star1          999 non-null    object \n",
      " 11  Star2          999 non-null    object \n",
      " 12  Star3          999 non-null    object \n",
      " 13  Star4          999 non-null    object \n",
      " 14  No_of_Votes    999 non-null    int64  \n",
      " 15  Gross          830 non-null    object \n",
      "dtypes: float64(2), int64(2), object(12)\n",
      "memory usage: 125.0+ KB\n"
     ]
    }
   ],
   "source": [
    "# Visão geral do Dataframe\n",
    "df.info()"
   ]
  },
  {
   "cell_type": "markdown",
   "id": "bb208dc4",
   "metadata": {},
   "source": [
    "Existem algumas features inconsistentens nos dados, como uma coluna sem nome; valores `non-null` abaixo da quantidade de linhas (indicando valores ausentes) nas colunas `Certificate`, `Meta_score`, `Gross`; algumas colunas com Dtype no formato `object` que possívelmente deveria estar como `int` ou `float`."
   ]
  },
  {
   "cell_type": "code",
   "execution_count": 42,
   "id": "32c0bc42",
   "metadata": {},
   "outputs": [
    {
     "data": {
      "text/html": [
       "<div>\n",
       "<style scoped>\n",
       "    .dataframe tbody tr th:only-of-type {\n",
       "        vertical-align: middle;\n",
       "    }\n",
       "\n",
       "    .dataframe tbody tr th {\n",
       "        vertical-align: top;\n",
       "    }\n",
       "\n",
       "    .dataframe thead th {\n",
       "        text-align: right;\n",
       "    }\n",
       "</style>\n",
       "<table border=\"1\" class=\"dataframe\">\n",
       "  <thead>\n",
       "    <tr style=\"text-align: right;\">\n",
       "      <th></th>\n",
       "      <th>Unnamed: 0</th>\n",
       "      <th>Series_Title</th>\n",
       "      <th>Released_Year</th>\n",
       "      <th>Certificate</th>\n",
       "      <th>Runtime</th>\n",
       "      <th>Genre</th>\n",
       "      <th>IMDB_Rating</th>\n",
       "      <th>Overview</th>\n",
       "      <th>Meta_score</th>\n",
       "      <th>Director</th>\n",
       "      <th>Star1</th>\n",
       "      <th>Star2</th>\n",
       "      <th>Star3</th>\n",
       "      <th>Star4</th>\n",
       "      <th>No_of_Votes</th>\n",
       "      <th>Gross</th>\n",
       "    </tr>\n",
       "  </thead>\n",
       "  <tbody>\n",
       "    <tr>\n",
       "      <th>0</th>\n",
       "      <td>1</td>\n",
       "      <td>The Godfather</td>\n",
       "      <td>1972</td>\n",
       "      <td>A</td>\n",
       "      <td>175 min</td>\n",
       "      <td>Crime, Drama</td>\n",
       "      <td>9.2</td>\n",
       "      <td>An organized crime dynasty's aging patriarch t...</td>\n",
       "      <td>100.0</td>\n",
       "      <td>Francis Ford Coppola</td>\n",
       "      <td>Marlon Brando</td>\n",
       "      <td>Al Pacino</td>\n",
       "      <td>James Caan</td>\n",
       "      <td>Diane Keaton</td>\n",
       "      <td>1620367</td>\n",
       "      <td>134,966,411</td>\n",
       "    </tr>\n",
       "    <tr>\n",
       "      <th>1</th>\n",
       "      <td>2</td>\n",
       "      <td>The Dark Knight</td>\n",
       "      <td>2008</td>\n",
       "      <td>UA</td>\n",
       "      <td>152 min</td>\n",
       "      <td>Action, Crime, Drama</td>\n",
       "      <td>9.0</td>\n",
       "      <td>When the menace known as the Joker wreaks havo...</td>\n",
       "      <td>84.0</td>\n",
       "      <td>Christopher Nolan</td>\n",
       "      <td>Christian Bale</td>\n",
       "      <td>Heath Ledger</td>\n",
       "      <td>Aaron Eckhart</td>\n",
       "      <td>Michael Caine</td>\n",
       "      <td>2303232</td>\n",
       "      <td>534,858,444</td>\n",
       "    </tr>\n",
       "    <tr>\n",
       "      <th>2</th>\n",
       "      <td>3</td>\n",
       "      <td>The Godfather: Part II</td>\n",
       "      <td>1974</td>\n",
       "      <td>A</td>\n",
       "      <td>202 min</td>\n",
       "      <td>Crime, Drama</td>\n",
       "      <td>9.0</td>\n",
       "      <td>The early life and career of Vito Corleone in ...</td>\n",
       "      <td>90.0</td>\n",
       "      <td>Francis Ford Coppola</td>\n",
       "      <td>Al Pacino</td>\n",
       "      <td>Robert De Niro</td>\n",
       "      <td>Robert Duvall</td>\n",
       "      <td>Diane Keaton</td>\n",
       "      <td>1129952</td>\n",
       "      <td>57,300,000</td>\n",
       "    </tr>\n",
       "    <tr>\n",
       "      <th>3</th>\n",
       "      <td>4</td>\n",
       "      <td>12 Angry Men</td>\n",
       "      <td>1957</td>\n",
       "      <td>U</td>\n",
       "      <td>96 min</td>\n",
       "      <td>Crime, Drama</td>\n",
       "      <td>9.0</td>\n",
       "      <td>A jury holdout attempts to prevent a miscarria...</td>\n",
       "      <td>96.0</td>\n",
       "      <td>Sidney Lumet</td>\n",
       "      <td>Henry Fonda</td>\n",
       "      <td>Lee J. Cobb</td>\n",
       "      <td>Martin Balsam</td>\n",
       "      <td>John Fiedler</td>\n",
       "      <td>689845</td>\n",
       "      <td>4,360,000</td>\n",
       "    </tr>\n",
       "    <tr>\n",
       "      <th>4</th>\n",
       "      <td>5</td>\n",
       "      <td>The Lord of the Rings: The Return of the King</td>\n",
       "      <td>2003</td>\n",
       "      <td>U</td>\n",
       "      <td>201 min</td>\n",
       "      <td>Action, Adventure, Drama</td>\n",
       "      <td>8.9</td>\n",
       "      <td>Gandalf and Aragorn lead the World of Men agai...</td>\n",
       "      <td>94.0</td>\n",
       "      <td>Peter Jackson</td>\n",
       "      <td>Elijah Wood</td>\n",
       "      <td>Viggo Mortensen</td>\n",
       "      <td>Ian McKellen</td>\n",
       "      <td>Orlando Bloom</td>\n",
       "      <td>1642758</td>\n",
       "      <td>377,845,905</td>\n",
       "    </tr>\n",
       "  </tbody>\n",
       "</table>\n",
       "</div>"
      ],
      "text/plain": [
       "   Unnamed: 0                                   Series_Title Released_Year  \\\n",
       "0           1                                  The Godfather          1972   \n",
       "1           2                                The Dark Knight          2008   \n",
       "2           3                         The Godfather: Part II          1974   \n",
       "3           4                                   12 Angry Men          1957   \n",
       "4           5  The Lord of the Rings: The Return of the King          2003   \n",
       "\n",
       "  Certificate  Runtime                     Genre  IMDB_Rating  \\\n",
       "0           A  175 min              Crime, Drama          9.2   \n",
       "1          UA  152 min      Action, Crime, Drama          9.0   \n",
       "2           A  202 min              Crime, Drama          9.0   \n",
       "3           U   96 min              Crime, Drama          9.0   \n",
       "4           U  201 min  Action, Adventure, Drama          8.9   \n",
       "\n",
       "                                            Overview  Meta_score  \\\n",
       "0  An organized crime dynasty's aging patriarch t...       100.0   \n",
       "1  When the menace known as the Joker wreaks havo...        84.0   \n",
       "2  The early life and career of Vito Corleone in ...        90.0   \n",
       "3  A jury holdout attempts to prevent a miscarria...        96.0   \n",
       "4  Gandalf and Aragorn lead the World of Men agai...        94.0   \n",
       "\n",
       "               Director           Star1            Star2          Star3  \\\n",
       "0  Francis Ford Coppola   Marlon Brando        Al Pacino     James Caan   \n",
       "1     Christopher Nolan  Christian Bale     Heath Ledger  Aaron Eckhart   \n",
       "2  Francis Ford Coppola       Al Pacino   Robert De Niro  Robert Duvall   \n",
       "3          Sidney Lumet     Henry Fonda      Lee J. Cobb  Martin Balsam   \n",
       "4         Peter Jackson     Elijah Wood  Viggo Mortensen   Ian McKellen   \n",
       "\n",
       "           Star4  No_of_Votes        Gross  \n",
       "0   Diane Keaton      1620367  134,966,411  \n",
       "1  Michael Caine      2303232  534,858,444  \n",
       "2   Diane Keaton      1129952   57,300,000  \n",
       "3   John Fiedler       689845    4,360,000  \n",
       "4  Orlando Bloom      1642758  377,845,905  "
      ]
     },
     "execution_count": 42,
     "metadata": {},
     "output_type": "execute_result"
    }
   ],
   "source": [
    "# Primeiras linhas do Dataframe\n",
    "df.head()"
   ]
  },
  {
   "cell_type": "markdown",
   "id": "a0c65818",
   "metadata": {},
   "source": [
    "### Limpeza dos Dados\n",
    "\n",
    "Nesta etapa, será removida a coluna \"Unnamed\" pois se trata apenas de um índice que foi carregado junto aos dados. Em seguida, vamos lidar com duplicatas se necessário e com os valores ausentes."
   ]
  },
  {
   "cell_type": "code",
   "execution_count": 43,
   "id": "1d7c22fd",
   "metadata": {},
   "outputs": [],
   "source": [
    "# Removendo colunas desnecessárias\n",
    "df.drop(columns=\"Unnamed: 0\", inplace=True)"
   ]
  },
  {
   "cell_type": "code",
   "execution_count": 44,
   "id": "10747e80",
   "metadata": {},
   "outputs": [
    {
     "name": "stdout",
     "output_type": "stream",
     "text": [
      "Contagem de filmes com o mesmo nome:\n"
     ]
    },
    {
     "data": {
      "text/plain": [
       "Series_Title\n",
       "Drishyam            2\n",
       "Falling Down        1\n",
       "Cidade de Deus      1\n",
       "The Muppet Movie    1\n",
       "The Warriors        1\n",
       "Name: count, dtype: int64"
      ]
     },
     "execution_count": 44,
     "metadata": {},
     "output_type": "execute_result"
    }
   ],
   "source": [
    "print(\"Contagem de filmes com o mesmo nome:\")\n",
    "df['Series_Title'].value_counts().head()"
   ]
  },
  {
   "cell_type": "markdown",
   "id": "093df65f",
   "metadata": {},
   "source": [
    "Existe apenas um filme com duplicata, o que não irá prejudicar as análises. Um outro ponto importante a se fazer inicialmente, será converter as seguintes colunas para `int`:\n",
    "\n",
    "- Released_Year\n",
    "\n",
    "- Runtime (remover ' min')\n",
    "\n",
    "- Gross (remover vírgulas)\n",
    "\n",
    "Para isso, será necessário a utilização de técnicas específicas durante a conversão de cada uma dessas colunas."
   ]
  },
  {
   "cell_type": "code",
   "execution_count": null,
   "id": "d14ce9de",
   "metadata": {},
   "outputs": [],
   "source": [
    "# Removendo strings\n",
    "df['Runtime'] = df['Runtime'].str.replace(' min', '')\n",
    "df['Gross'] = df['Gross'].str.replace(',', '')\n",
    "\n",
    "# Colunas alvo\n",
    "conversao_int = [\"Released_Year\", \"Runtime\", \"Gross\"]\n",
    "\n",
    "# Convertendo para int64\n",
    "df[conversao_int] = df[conversao_int].apply(pd.to_numeric, downcast='integer', errors='coerce').astype('Int64')"
   ]
  },
  {
   "cell_type": "code",
   "execution_count": 46,
   "id": "9091c280",
   "metadata": {},
   "outputs": [
    {
     "name": "stdout",
     "output_type": "stream",
     "text": [
      "Tipos de dados após conversão:\n"
     ]
    },
    {
     "data": {
      "text/plain": [
       "Series_Title      object\n",
       "Released_Year      Int64\n",
       "Certificate       object\n",
       "Runtime            Int64\n",
       "Genre             object\n",
       "IMDB_Rating      float64\n",
       "Overview          object\n",
       "Meta_score       float64\n",
       "Director          object\n",
       "Star1             object\n",
       "Star2             object\n",
       "Star3             object\n",
       "Star4             object\n",
       "No_of_Votes        int64\n",
       "Gross              Int64\n",
       "dtype: object"
      ]
     },
     "execution_count": 46,
     "metadata": {},
     "output_type": "execute_result"
    }
   ],
   "source": [
    "print(\"Tipos de dados após conversão:\")\n",
    "df.dtypes"
   ]
  },
  {
   "cell_type": "code",
   "execution_count": 47,
   "id": "224a42ad",
   "metadata": {},
   "outputs": [
    {
     "name": "stdout",
     "output_type": "stream",
     "text": [
      "Contagem de valores nulos por coluna:\n"
     ]
    },
    {
     "data": {
      "text/plain": [
       "Series_Title       0\n",
       "Released_Year      1\n",
       "Certificate      101\n",
       "Runtime            0\n",
       "Genre              0\n",
       "IMDB_Rating        0\n",
       "Overview           0\n",
       "Meta_score       157\n",
       "Director           0\n",
       "Star1              0\n",
       "Star2              0\n",
       "Star3              0\n",
       "Star4              0\n",
       "No_of_Votes        0\n",
       "Gross            169\n",
       "dtype: int64"
      ]
     },
     "execution_count": 47,
     "metadata": {},
     "output_type": "execute_result"
    }
   ],
   "source": [
    "print(\"Contagem de valores nulos por coluna:\")\n",
    "df.isnull().sum()"
   ]
  },
  {
   "cell_type": "markdown",
   "id": "e91565d8",
   "metadata": {},
   "source": [
    "As colunas `Released_Year`, `Certificate`, `Meta_score` e `Gross` possuem valores ausentes que precisam de atenção. Mas primeiro, é necessário observar esses dados de perto. Para isso, será usada uma máscara lógica para observar as amostras e decidir a melhor maneira de lidar com esses valores."
   ]
  },
  {
   "cell_type": "code",
   "execution_count": 48,
   "id": "d5a43eb8",
   "metadata": {},
   "outputs": [
    {
     "data": {
      "text/html": [
       "<div>\n",
       "<style scoped>\n",
       "    .dataframe tbody tr th:only-of-type {\n",
       "        vertical-align: middle;\n",
       "    }\n",
       "\n",
       "    .dataframe tbody tr th {\n",
       "        vertical-align: top;\n",
       "    }\n",
       "\n",
       "    .dataframe thead th {\n",
       "        text-align: right;\n",
       "    }\n",
       "</style>\n",
       "<table border=\"1\" class=\"dataframe\">\n",
       "  <thead>\n",
       "    <tr style=\"text-align: right;\">\n",
       "      <th></th>\n",
       "      <th>Released_Year</th>\n",
       "      <th>Certificate</th>\n",
       "      <th>Meta_score</th>\n",
       "      <th>Gross</th>\n",
       "    </tr>\n",
       "  </thead>\n",
       "  <tbody>\n",
       "    <tr>\n",
       "      <th>0</th>\n",
       "      <td>False</td>\n",
       "      <td>False</td>\n",
       "      <td>False</td>\n",
       "      <td>False</td>\n",
       "    </tr>\n",
       "    <tr>\n",
       "      <th>1</th>\n",
       "      <td>False</td>\n",
       "      <td>False</td>\n",
       "      <td>False</td>\n",
       "      <td>False</td>\n",
       "    </tr>\n",
       "    <tr>\n",
       "      <th>2</th>\n",
       "      <td>False</td>\n",
       "      <td>False</td>\n",
       "      <td>False</td>\n",
       "      <td>False</td>\n",
       "    </tr>\n",
       "    <tr>\n",
       "      <th>3</th>\n",
       "      <td>False</td>\n",
       "      <td>False</td>\n",
       "      <td>False</td>\n",
       "      <td>False</td>\n",
       "    </tr>\n",
       "    <tr>\n",
       "      <th>4</th>\n",
       "      <td>False</td>\n",
       "      <td>False</td>\n",
       "      <td>False</td>\n",
       "      <td>False</td>\n",
       "    </tr>\n",
       "  </tbody>\n",
       "</table>\n",
       "</div>"
      ],
      "text/plain": [
       "   Released_Year  Certificate  Meta_score  Gross\n",
       "0          False        False       False  False\n",
       "1          False        False       False  False\n",
       "2          False        False       False  False\n",
       "3          False        False       False  False\n",
       "4          False        False       False  False"
      ]
     },
     "execution_count": 48,
     "metadata": {},
     "output_type": "execute_result"
    }
   ],
   "source": [
    "# Criando uma máscara lógica com NaNs   \n",
    "colunas_null = [\"Released_Year\", \"Certificate\", \"Meta_score\", \"Gross\"]\n",
    "null_mask = df[colunas_null].isnull()\n",
    "null_mask[0:5]"
   ]
  },
  {
   "cell_type": "code",
   "execution_count": 49,
   "id": "abe0497a",
   "metadata": {},
   "outputs": [
    {
     "data": {
      "text/html": [
       "<div>\n",
       "<style scoped>\n",
       "    .dataframe tbody tr th:only-of-type {\n",
       "        vertical-align: middle;\n",
       "    }\n",
       "\n",
       "    .dataframe tbody tr th {\n",
       "        vertical-align: top;\n",
       "    }\n",
       "\n",
       "    .dataframe thead th {\n",
       "        text-align: right;\n",
       "    }\n",
       "</style>\n",
       "<table border=\"1\" class=\"dataframe\">\n",
       "  <thead>\n",
       "    <tr style=\"text-align: right;\">\n",
       "      <th></th>\n",
       "      <th>Series_Title</th>\n",
       "      <th>Released_Year</th>\n",
       "      <th>Certificate</th>\n",
       "      <th>Runtime</th>\n",
       "      <th>Genre</th>\n",
       "      <th>IMDB_Rating</th>\n",
       "      <th>Overview</th>\n",
       "      <th>Meta_score</th>\n",
       "      <th>Director</th>\n",
       "      <th>Star1</th>\n",
       "      <th>Star2</th>\n",
       "      <th>Star3</th>\n",
       "      <th>Star4</th>\n",
       "      <th>No_of_Votes</th>\n",
       "      <th>Gross</th>\n",
       "    </tr>\n",
       "  </thead>\n",
       "  <tbody>\n",
       "    <tr>\n",
       "      <th>17</th>\n",
       "      <td>Hamilton</td>\n",
       "      <td>2020</td>\n",
       "      <td>PG-13</td>\n",
       "      <td>160</td>\n",
       "      <td>Biography, Drama, History</td>\n",
       "      <td>8.6</td>\n",
       "      <td>The real life of one of America's foremost fou...</td>\n",
       "      <td>90.0</td>\n",
       "      <td>Thomas Kail</td>\n",
       "      <td>Lin-Manuel Miranda</td>\n",
       "      <td>Phillipa Soo</td>\n",
       "      <td>Leslie Odom Jr.</td>\n",
       "      <td>Renée Elise Goldsberry</td>\n",
       "      <td>55291</td>\n",
       "      <td>&lt;NA&gt;</td>\n",
       "    </tr>\n",
       "    <tr>\n",
       "      <th>19</th>\n",
       "      <td>Soorarai Pottru</td>\n",
       "      <td>2020</td>\n",
       "      <td>U</td>\n",
       "      <td>153</td>\n",
       "      <td>Drama</td>\n",
       "      <td>8.6</td>\n",
       "      <td>Nedumaaran Rajangam \"Maara\" sets out to make t...</td>\n",
       "      <td>NaN</td>\n",
       "      <td>Sudha Kongara</td>\n",
       "      <td>Suriya</td>\n",
       "      <td>Madhavan</td>\n",
       "      <td>Paresh Rawal</td>\n",
       "      <td>Aparna Balamurali</td>\n",
       "      <td>54995</td>\n",
       "      <td>&lt;NA&gt;</td>\n",
       "    </tr>\n",
       "    <tr>\n",
       "      <th>29</th>\n",
       "      <td>Seppuku</td>\n",
       "      <td>1962</td>\n",
       "      <td>NaN</td>\n",
       "      <td>133</td>\n",
       "      <td>Action, Drama, Mystery</td>\n",
       "      <td>8.6</td>\n",
       "      <td>When a ronin requesting seppuku at a feudal lo...</td>\n",
       "      <td>85.0</td>\n",
       "      <td>Masaki Kobayashi</td>\n",
       "      <td>Tatsuya Nakadai</td>\n",
       "      <td>Akira Ishihama</td>\n",
       "      <td>Shima Iwashita</td>\n",
       "      <td>Tetsurô Tanba</td>\n",
       "      <td>42004</td>\n",
       "      <td>&lt;NA&gt;</td>\n",
       "    </tr>\n",
       "    <tr>\n",
       "      <th>31</th>\n",
       "      <td>It's a Wonderful Life</td>\n",
       "      <td>1946</td>\n",
       "      <td>PG</td>\n",
       "      <td>130</td>\n",
       "      <td>Drama, Family, Fantasy</td>\n",
       "      <td>8.6</td>\n",
       "      <td>An angel is sent from Heaven to help a despera...</td>\n",
       "      <td>89.0</td>\n",
       "      <td>Frank Capra</td>\n",
       "      <td>James Stewart</td>\n",
       "      <td>Donna Reed</td>\n",
       "      <td>Lionel Barrymore</td>\n",
       "      <td>Thomas Mitchell</td>\n",
       "      <td>405801</td>\n",
       "      <td>&lt;NA&gt;</td>\n",
       "    </tr>\n",
       "    <tr>\n",
       "      <th>45</th>\n",
       "      <td>Hotaru no haka</td>\n",
       "      <td>1988</td>\n",
       "      <td>U</td>\n",
       "      <td>89</td>\n",
       "      <td>Animation, Drama, War</td>\n",
       "      <td>8.5</td>\n",
       "      <td>A young boy and his little sister struggle to ...</td>\n",
       "      <td>94.0</td>\n",
       "      <td>Isao Takahata</td>\n",
       "      <td>Tsutomu Tatsumi</td>\n",
       "      <td>Ayano Shiraishi</td>\n",
       "      <td>Akemi Yamaguchi</td>\n",
       "      <td>Yoshiko Shinohara</td>\n",
       "      <td>235231</td>\n",
       "      <td>&lt;NA&gt;</td>\n",
       "    </tr>\n",
       "  </tbody>\n",
       "</table>\n",
       "</div>"
      ],
      "text/plain": [
       "             Series_Title  Released_Year Certificate  Runtime  \\\n",
       "17               Hamilton           2020       PG-13      160   \n",
       "19        Soorarai Pottru           2020           U      153   \n",
       "29                Seppuku           1962         NaN      133   \n",
       "31  It's a Wonderful Life           1946          PG      130   \n",
       "45         Hotaru no haka           1988           U       89   \n",
       "\n",
       "                        Genre  IMDB_Rating  \\\n",
       "17  Biography, Drama, History          8.6   \n",
       "19                      Drama          8.6   \n",
       "29     Action, Drama, Mystery          8.6   \n",
       "31     Drama, Family, Fantasy          8.6   \n",
       "45      Animation, Drama, War          8.5   \n",
       "\n",
       "                                             Overview  Meta_score  \\\n",
       "17  The real life of one of America's foremost fou...        90.0   \n",
       "19  Nedumaaran Rajangam \"Maara\" sets out to make t...         NaN   \n",
       "29  When a ronin requesting seppuku at a feudal lo...        85.0   \n",
       "31  An angel is sent from Heaven to help a despera...        89.0   \n",
       "45  A young boy and his little sister struggle to ...        94.0   \n",
       "\n",
       "            Director               Star1            Star2             Star3  \\\n",
       "17       Thomas Kail  Lin-Manuel Miranda     Phillipa Soo   Leslie Odom Jr.   \n",
       "19     Sudha Kongara              Suriya         Madhavan      Paresh Rawal   \n",
       "29  Masaki Kobayashi     Tatsuya Nakadai   Akira Ishihama    Shima Iwashita   \n",
       "31       Frank Capra       James Stewart       Donna Reed  Lionel Barrymore   \n",
       "45     Isao Takahata     Tsutomu Tatsumi  Ayano Shiraishi   Akemi Yamaguchi   \n",
       "\n",
       "                     Star4  No_of_Votes  Gross  \n",
       "17  Renée Elise Goldsberry        55291   <NA>  \n",
       "19       Aparna Balamurali        54995   <NA>  \n",
       "29           Tetsurô Tanba        42004   <NA>  \n",
       "31         Thomas Mitchell       405801   <NA>  \n",
       "45       Yoshiko Shinohara       235231   <NA>  "
      ]
     },
     "execution_count": 49,
     "metadata": {},
     "output_type": "execute_result"
    }
   ],
   "source": [
    "# Filtragem com cinco amostras\n",
    "linhas_com_null = null_mask.any(axis=1)\n",
    "df[linhas_com_null].head()"
   ]
  },
  {
   "cell_type": "markdown",
   "id": "f0f760b2",
   "metadata": {},
   "source": [
    "Os valores ausentes irão impactar negativamente o desempenho das analises, principalmente a quantidade de NaNs em `Meta_score` e `Gross`. A melhor decisão, será remover esses valores."
   ]
  },
  {
   "cell_type": "code",
   "execution_count": 50,
   "id": "6bf3af39",
   "metadata": {},
   "outputs": [],
   "source": [
    "df.dropna(inplace=True)"
   ]
  },
  {
   "cell_type": "code",
   "execution_count": 51,
   "id": "6e5e8fb3",
   "metadata": {},
   "outputs": [
    {
     "name": "stdout",
     "output_type": "stream",
     "text": [
      "Quantidade de linhas após remoção de NaNs: 712\n",
      "Valores nulos restantes:\n"
     ]
    },
    {
     "data": {
      "text/plain": [
       "Series_Title     0\n",
       "Released_Year    0\n",
       "Certificate      0\n",
       "Runtime          0\n",
       "Genre            0\n",
       "IMDB_Rating      0\n",
       "Overview         0\n",
       "Meta_score       0\n",
       "Director         0\n",
       "Star1            0\n",
       "Star2            0\n",
       "Star3            0\n",
       "Star4            0\n",
       "No_of_Votes      0\n",
       "Gross            0\n",
       "dtype: int64"
      ]
     },
     "execution_count": 51,
     "metadata": {},
     "output_type": "execute_result"
    }
   ],
   "source": [
    "print(f\"Quantidade de linhas após remoção de NaNs: {df.shape[0]}\\nValores nulos restantes:\")\n",
    "df.isna().sum()"
   ]
  },
  {
   "cell_type": "markdown",
   "id": "122260c9",
   "metadata": {},
   "source": [
    "## Análise Exploratória de Dados - EDA"
   ]
  },
  {
   "cell_type": "code",
   "execution_count": 52,
   "id": "1ddd6c14",
   "metadata": {},
   "outputs": [
    {
     "data": {
      "text/html": [
       "<div>\n",
       "<style scoped>\n",
       "    .dataframe tbody tr th:only-of-type {\n",
       "        vertical-align: middle;\n",
       "    }\n",
       "\n",
       "    .dataframe tbody tr th {\n",
       "        vertical-align: top;\n",
       "    }\n",
       "\n",
       "    .dataframe thead th {\n",
       "        text-align: right;\n",
       "    }\n",
       "</style>\n",
       "<table border=\"1\" class=\"dataframe\">\n",
       "  <thead>\n",
       "    <tr style=\"text-align: right;\">\n",
       "      <th></th>\n",
       "      <th>Released_Year</th>\n",
       "      <th>Runtime</th>\n",
       "      <th>IMDB_Rating</th>\n",
       "      <th>Meta_score</th>\n",
       "      <th>No_of_Votes</th>\n",
       "      <th>Gross</th>\n",
       "    </tr>\n",
       "  </thead>\n",
       "  <tbody>\n",
       "    <tr>\n",
       "      <th>count</th>\n",
       "      <td>712.0</td>\n",
       "      <td>712.0</td>\n",
       "      <td>712.000000</td>\n",
       "      <td>712.000000</td>\n",
       "      <td>7.120000e+02</td>\n",
       "      <td>712.0</td>\n",
       "    </tr>\n",
       "    <tr>\n",
       "      <th>mean</th>\n",
       "      <td>1995.738764</td>\n",
       "      <td>123.667135</td>\n",
       "      <td>7.935674</td>\n",
       "      <td>77.154494</td>\n",
       "      <td>3.534662e+05</td>\n",
       "      <td>78450169.183989</td>\n",
       "    </tr>\n",
       "    <tr>\n",
       "      <th>std</th>\n",
       "      <td>18.611182</td>\n",
       "      <td>25.907607</td>\n",
       "      <td>0.288928</td>\n",
       "      <td>12.418115</td>\n",
       "      <td>3.464502e+05</td>\n",
       "      <td>115068637.166882</td>\n",
       "    </tr>\n",
       "    <tr>\n",
       "      <th>min</th>\n",
       "      <td>1930.0</td>\n",
       "      <td>72.0</td>\n",
       "      <td>7.600000</td>\n",
       "      <td>28.000000</td>\n",
       "      <td>2.522900e+04</td>\n",
       "      <td>1305.0</td>\n",
       "    </tr>\n",
       "    <tr>\n",
       "      <th>25%</th>\n",
       "      <td>1986.75</td>\n",
       "      <td>104.0</td>\n",
       "      <td>7.700000</td>\n",
       "      <td>69.750000</td>\n",
       "      <td>9.566475e+04</td>\n",
       "      <td>6143199.0</td>\n",
       "    </tr>\n",
       "    <tr>\n",
       "      <th>50%</th>\n",
       "      <td>2001.0</td>\n",
       "      <td>120.0</td>\n",
       "      <td>7.900000</td>\n",
       "      <td>78.000000</td>\n",
       "      <td>2.359815e+05</td>\n",
       "      <td>34850145.5</td>\n",
       "    </tr>\n",
       "    <tr>\n",
       "      <th>75%</th>\n",
       "      <td>2010.0</td>\n",
       "      <td>136.0</td>\n",
       "      <td>8.100000</td>\n",
       "      <td>86.000000</td>\n",
       "      <td>5.065428e+05</td>\n",
       "      <td>102360615.0</td>\n",
       "    </tr>\n",
       "    <tr>\n",
       "      <th>max</th>\n",
       "      <td>2019.0</td>\n",
       "      <td>238.0</td>\n",
       "      <td>9.200000</td>\n",
       "      <td>100.000000</td>\n",
       "      <td>2.303232e+06</td>\n",
       "      <td>936662225.0</td>\n",
       "    </tr>\n",
       "  </tbody>\n",
       "</table>\n",
       "</div>"
      ],
      "text/plain": [
       "       Released_Year     Runtime  IMDB_Rating  Meta_score   No_of_Votes  \\\n",
       "count          712.0       712.0   712.000000  712.000000  7.120000e+02   \n",
       "mean     1995.738764  123.667135     7.935674   77.154494  3.534662e+05   \n",
       "std        18.611182   25.907607     0.288928   12.418115  3.464502e+05   \n",
       "min           1930.0        72.0     7.600000   28.000000  2.522900e+04   \n",
       "25%          1986.75       104.0     7.700000   69.750000  9.566475e+04   \n",
       "50%           2001.0       120.0     7.900000   78.000000  2.359815e+05   \n",
       "75%           2010.0       136.0     8.100000   86.000000  5.065428e+05   \n",
       "max           2019.0       238.0     9.200000  100.000000  2.303232e+06   \n",
       "\n",
       "                  Gross  \n",
       "count             712.0  \n",
       "mean    78450169.183989  \n",
       "std    115068637.166882  \n",
       "min              1305.0  \n",
       "25%           6143199.0  \n",
       "50%          34850145.5  \n",
       "75%         102360615.0  \n",
       "max         936662225.0  "
      ]
     },
     "execution_count": 52,
     "metadata": {},
     "output_type": "execute_result"
    }
   ],
   "source": [
    "df.describe()"
   ]
  },
  {
   "cell_type": "markdown",
   "id": "831ae31e",
   "metadata": {},
   "source": [
    "A partir do resumo estatístico da função `describe()` já é possível notar muitos insights interessantes:\n",
    "\n",
    "- Os filmes estão entre os anos de 1930 à 2019\n",
    "\n",
    "- Em média, os filmes possuem 2 horas de duração (123 minutos)\n",
    "\n",
    "- Não temos filmes com uma nota máxima no IMDB, mas temos uma nota bem alta com 9,2\n",
    "\n",
    "- Filme(s) com um meta score que atingiu 100 pontos\n",
    "\n",
    "- Título(s) que obteve um faturamento discrepante, com aproximadamente 940 milhões (a notação cientifica e+08, indica que o número à esquerda do ponto contém oito zeros)\n",
    "\n",
    "Durante a análise exploratoria, irei entrar em vários subtópicos para responder algumas perguntas do desafio."
   ]
  },
  {
   "cell_type": "markdown",
   "id": "cfe5259d",
   "metadata": {},
   "source": [
    "### Recomendando o filme"
   ]
  },
  {
   "cell_type": "code",
   "execution_count": 57,
   "id": "dc1cfd6f",
   "metadata": {},
   "outputs": [
    {
     "data": {
      "text/html": [
       "<div>\n",
       "<style scoped>\n",
       "    .dataframe tbody tr th:only-of-type {\n",
       "        vertical-align: middle;\n",
       "    }\n",
       "\n",
       "    .dataframe tbody tr th {\n",
       "        vertical-align: top;\n",
       "    }\n",
       "\n",
       "    .dataframe thead th {\n",
       "        text-align: right;\n",
       "    }\n",
       "</style>\n",
       "<table border=\"1\" class=\"dataframe\">\n",
       "  <thead>\n",
       "    <tr style=\"text-align: right;\">\n",
       "      <th></th>\n",
       "      <th>Series_Title</th>\n",
       "      <th>Released_Year</th>\n",
       "      <th>IMDB_Rating</th>\n",
       "      <th>Meta_score</th>\n",
       "      <th>No_of_Votes</th>\n",
       "      <th>Gross</th>\n",
       "    </tr>\n",
       "  </thead>\n",
       "  <tbody>\n",
       "    <tr>\n",
       "      <th>0</th>\n",
       "      <td>The Godfather</td>\n",
       "      <td>1972</td>\n",
       "      <td>9.2</td>\n",
       "      <td>100.0</td>\n",
       "      <td>1620367</td>\n",
       "      <td>134966411</td>\n",
       "    </tr>\n",
       "    <tr>\n",
       "      <th>1</th>\n",
       "      <td>The Dark Knight</td>\n",
       "      <td>2008</td>\n",
       "      <td>9.0</td>\n",
       "      <td>84.0</td>\n",
       "      <td>2303232</td>\n",
       "      <td>534858444</td>\n",
       "    </tr>\n",
       "    <tr>\n",
       "      <th>2</th>\n",
       "      <td>The Godfather: Part II</td>\n",
       "      <td>1974</td>\n",
       "      <td>9.0</td>\n",
       "      <td>90.0</td>\n",
       "      <td>1129952</td>\n",
       "      <td>57300000</td>\n",
       "    </tr>\n",
       "    <tr>\n",
       "      <th>3</th>\n",
       "      <td>12 Angry Men</td>\n",
       "      <td>1957</td>\n",
       "      <td>9.0</td>\n",
       "      <td>96.0</td>\n",
       "      <td>689845</td>\n",
       "      <td>4360000</td>\n",
       "    </tr>\n",
       "    <tr>\n",
       "      <th>5</th>\n",
       "      <td>Pulp Fiction</td>\n",
       "      <td>1994</td>\n",
       "      <td>8.9</td>\n",
       "      <td>94.0</td>\n",
       "      <td>1826188</td>\n",
       "      <td>107928762</td>\n",
       "    </tr>\n",
       "  </tbody>\n",
       "</table>\n",
       "</div>"
      ],
      "text/plain": [
       "             Series_Title  Released_Year  IMDB_Rating  Meta_score  \\\n",
       "0           The Godfather           1972          9.2       100.0   \n",
       "1         The Dark Knight           2008          9.0        84.0   \n",
       "2  The Godfather: Part II           1974          9.0        90.0   \n",
       "3            12 Angry Men           1957          9.0        96.0   \n",
       "5            Pulp Fiction           1994          8.9        94.0   \n",
       "\n",
       "   No_of_Votes      Gross  \n",
       "0      1620367  134966411  \n",
       "1      2303232  534858444  \n",
       "2      1129952   57300000  \n",
       "3       689845    4360000  \n",
       "5      1826188  107928762  "
      ]
     },
     "execution_count": 57,
     "metadata": {},
     "output_type": "execute_result"
    }
   ],
   "source": [
    "# Recomendando um filme a partir das features\n",
    "col_recomend = [\"Series_Title\", \"Released_Year\", \"IMDB_Rating\", \"Meta_score\", \"No_of_Votes\", \"Gross\"]\n",
    "\n",
    "df_recomend = df[col_recomend].copy()\n",
    "df_recomend.sort_values(by=[\"IMDB_Rating\", \"No_of_Votes\"], ascending=False, inplace=True)\n",
    "df_recomend.head()"
   ]
  },
  {
   "cell_type": "markdown",
   "id": "528f67de",
   "metadata": {},
   "source": [
    "O filme que seria uma recomendação para uma pessoa, seria o \"The Godfather\" ou \"The Dark Kinght\". As escolhas convergem por conta do faturamento, pois existem muito fatores que puderam contribuir para um lucro tão alto, como a popularidade do \"super-herói\". Mesmo assim, ambos os filmes possuem notas excelentes e um alto número de votos. "
   ]
  },
  {
   "cell_type": "markdown",
   "id": "1233d830",
   "metadata": {},
   "source": [
    "### Correlação do Faturamento"
   ]
  },
  {
   "cell_type": "code",
   "execution_count": 60,
   "id": "fc475793",
   "metadata": {},
   "outputs": [
    {
     "data": {
      "text/plain": [
       "Index(['Series_Title', 'Released_Year', 'Certificate', 'Runtime', 'Genre',\n",
       "       'IMDB_Rating', 'Overview', 'Meta_score', 'Director', 'Star1', 'Star2',\n",
       "       'Star3', 'Star4', 'No_of_Votes', 'Gross'],\n",
       "      dtype='object')"
      ]
     },
     "execution_count": 60,
     "metadata": {},
     "output_type": "execute_result"
    }
   ],
   "source": [
    "df.columns"
   ]
  },
  {
   "cell_type": "code",
   "execution_count": 68,
   "id": "47137035",
   "metadata": {},
   "outputs": [
    {
     "data": {
      "text/plain": [
       "Genre                     \n",
       "Drama                         57\n",
       "Drama, Romance                26\n",
       "Comedy, Drama                 24\n",
       "Crime, Drama, Thriller        22\n",
       "Action, Adventure, Sci-Fi     21\n",
       "                              ..\n",
       "Drama, War, Western            1\n",
       "Horror, Thriller               1\n",
       "Horror, Sci-Fi                 1\n",
       "Horror, Mystery, Sci-Fi        1\n",
       "Mystery, Romance, Thriller     1\n",
       "Name: count, Length: 172, dtype: int64"
      ]
     },
     "execution_count": 68,
     "metadata": {},
     "output_type": "execute_result"
    }
   ],
   "source": [
    "df.value_counts(subset=['Genre'])"
   ]
  }
 ],
 "metadata": {
  "kernelspec": {
   "display_name": ".venv",
   "language": "python",
   "name": "python3"
  },
  "language_info": {
   "codemirror_mode": {
    "name": "ipython",
    "version": 3
   },
   "file_extension": ".py",
   "mimetype": "text/x-python",
   "name": "python",
   "nbconvert_exporter": "python",
   "pygments_lexer": "ipython3",
   "version": "3.12.7"
  }
 },
 "nbformat": 4,
 "nbformat_minor": 5
}

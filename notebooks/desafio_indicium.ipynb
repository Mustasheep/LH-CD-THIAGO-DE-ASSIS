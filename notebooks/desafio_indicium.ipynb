{
 "cells": [
  {
   "cell_type": "markdown",
   "id": "ea6e25bc",
   "metadata": {},
   "source": [
    "## Introdução\n",
    "\n",
    "Este projeto engloba o desafio técnico da Indicium para o programa LightHouse, na trilha de Ciência de Dados.\n",
    "\n",
    "Para esse notebook, será desenvolvido experimentos do dataset `desafio_indicium_imdb.csv`, para compreender sobre a sua estrutura, limpar, aplicar análise exploratória, técnicas de NLP, engenharia de features, preparar os dados para treinamento e criar/treinar um modelo de Machine Learning com `sckit-learn`.\n",
    "\n",
    "O objetivo é responder algumas perguntas do desafio e prever a nota IMDB do filme *The Shawshank Redemption*."
   ]
  },
  {
   "cell_type": "markdown",
   "id": "416e0a62",
   "metadata": {},
   "source": [
    "### Carregando bibliotecas"
   ]
  },
  {
   "cell_type": "code",
   "execution_count": 194,
   "id": "1fb0d99d",
   "metadata": {},
   "outputs": [],
   "source": [
    "import pandas as pd\n",
    "import numpy as np\n",
    "import matplotlib.pyplot as plt\n",
    "import seaborn as sns\n",
    "import pickle\n",
    "import os\n",
    "\n",
    "# Bibliotecas para NLP\n",
    "from collections import Counter\n",
    "import spacy\n",
    "import re\n",
    "\n",
    "# Engenharia de Features e Modelagem\n",
    "from sklearn.preprocessing import MultiLabelBinarizer, RobustScaler\n",
    "from sklearn.model_selection import train_test_split, RandomizedSearchCV\n",
    "from sklearn.linear_model import Ridge\n",
    "from sklearn.pipeline import Pipeline\n",
    "\n",
    "# Avaliação e otimização\n",
    "from sklearn.metrics import mean_absolute_error, mean_squared_error, r2_score\n",
    "from scipy.stats import loguniform\n",
    "\n",
    "# Ignorando avisos do sistema\n",
    "import warnings\n",
    "warnings.filterwarnings('ignore')\n",
    "\n",
    "# Paleta do cores para todo projeto\n",
    "cores = \"flare\""
   ]
  },
  {
   "cell_type": "markdown",
   "id": "394138b0",
   "metadata": {},
   "source": [
    "### Carregando os dados e inspeção inicial"
   ]
  },
  {
   "cell_type": "code",
   "execution_count": 195,
   "id": "dfba3266",
   "metadata": {},
   "outputs": [],
   "source": [
    "df = pd.read_csv(\"../data/desafio_indicium_imdb.csv\")"
   ]
  },
  {
   "cell_type": "code",
   "execution_count": 196,
   "id": "9e5f8c73",
   "metadata": {},
   "outputs": [
    {
     "name": "stdout",
     "output_type": "stream",
     "text": [
      "Quantidade de linhas: 999\n",
      "Quantidade de colunas: 16\n"
     ]
    }
   ],
   "source": [
    "print(f\"Quantidade de linhas: {df.shape[0]}\")\n",
    "print(f\"Quantidade de colunas: {df.shape[1]}\")"
   ]
  },
  {
   "cell_type": "code",
   "execution_count": 197,
   "id": "bb6af932",
   "metadata": {},
   "outputs": [
    {
     "name": "stdout",
     "output_type": "stream",
     "text": [
      "<class 'pandas.core.frame.DataFrame'>\n",
      "RangeIndex: 999 entries, 0 to 998\n",
      "Data columns (total 16 columns):\n",
      " #   Column         Non-Null Count  Dtype  \n",
      "---  ------         --------------  -----  \n",
      " 0   Unnamed: 0     999 non-null    int64  \n",
      " 1   Series_Title   999 non-null    object \n",
      " 2   Released_Year  999 non-null    object \n",
      " 3   Certificate    898 non-null    object \n",
      " 4   Runtime        999 non-null    object \n",
      " 5   Genre          999 non-null    object \n",
      " 6   IMDB_Rating    999 non-null    float64\n",
      " 7   Overview       999 non-null    object \n",
      " 8   Meta_score     842 non-null    float64\n",
      " 9   Director       999 non-null    object \n",
      " 10  Star1          999 non-null    object \n",
      " 11  Star2          999 non-null    object \n",
      " 12  Star3          999 non-null    object \n",
      " 13  Star4          999 non-null    object \n",
      " 14  No_of_Votes    999 non-null    int64  \n",
      " 15  Gross          830 non-null    object \n",
      "dtypes: float64(2), int64(2), object(12)\n",
      "memory usage: 125.0+ KB\n"
     ]
    }
   ],
   "source": [
    "# Visão geral do Dataframe\n",
    "df.info()"
   ]
  },
  {
   "cell_type": "markdown",
   "id": "bb208dc4",
   "metadata": {},
   "source": [
    "Existem algumas features inconsistentens nos dados, como uma coluna sem nome; valores `non-null` abaixo da quantidade de linhas (indicando valores ausentes) nas colunas `Certificate`, `Meta_score`, `Gross`; algumas colunas com Dtype no formato `object` que possívelmente deveria estar como `int` ou `float`."
   ]
  },
  {
   "cell_type": "code",
   "execution_count": 198,
   "id": "32c0bc42",
   "metadata": {},
   "outputs": [
    {
     "data": {
      "text/html": [
       "<div>\n",
       "<style scoped>\n",
       "    .dataframe tbody tr th:only-of-type {\n",
       "        vertical-align: middle;\n",
       "    }\n",
       "\n",
       "    .dataframe tbody tr th {\n",
       "        vertical-align: top;\n",
       "    }\n",
       "\n",
       "    .dataframe thead th {\n",
       "        text-align: right;\n",
       "    }\n",
       "</style>\n",
       "<table border=\"1\" class=\"dataframe\">\n",
       "  <thead>\n",
       "    <tr style=\"text-align: right;\">\n",
       "      <th></th>\n",
       "      <th>Unnamed: 0</th>\n",
       "      <th>Series_Title</th>\n",
       "      <th>Released_Year</th>\n",
       "      <th>Certificate</th>\n",
       "      <th>Runtime</th>\n",
       "      <th>Genre</th>\n",
       "      <th>IMDB_Rating</th>\n",
       "      <th>Overview</th>\n",
       "      <th>Meta_score</th>\n",
       "      <th>Director</th>\n",
       "      <th>Star1</th>\n",
       "      <th>Star2</th>\n",
       "      <th>Star3</th>\n",
       "      <th>Star4</th>\n",
       "      <th>No_of_Votes</th>\n",
       "      <th>Gross</th>\n",
       "    </tr>\n",
       "  </thead>\n",
       "  <tbody>\n",
       "    <tr>\n",
       "      <th>0</th>\n",
       "      <td>1</td>\n",
       "      <td>The Godfather</td>\n",
       "      <td>1972</td>\n",
       "      <td>A</td>\n",
       "      <td>175 min</td>\n",
       "      <td>Crime, Drama</td>\n",
       "      <td>9.2</td>\n",
       "      <td>An organized crime dynasty's aging patriarch t...</td>\n",
       "      <td>100.0</td>\n",
       "      <td>Francis Ford Coppola</td>\n",
       "      <td>Marlon Brando</td>\n",
       "      <td>Al Pacino</td>\n",
       "      <td>James Caan</td>\n",
       "      <td>Diane Keaton</td>\n",
       "      <td>1620367</td>\n",
       "      <td>134,966,411</td>\n",
       "    </tr>\n",
       "    <tr>\n",
       "      <th>1</th>\n",
       "      <td>2</td>\n",
       "      <td>The Dark Knight</td>\n",
       "      <td>2008</td>\n",
       "      <td>UA</td>\n",
       "      <td>152 min</td>\n",
       "      <td>Action, Crime, Drama</td>\n",
       "      <td>9.0</td>\n",
       "      <td>When the menace known as the Joker wreaks havo...</td>\n",
       "      <td>84.0</td>\n",
       "      <td>Christopher Nolan</td>\n",
       "      <td>Christian Bale</td>\n",
       "      <td>Heath Ledger</td>\n",
       "      <td>Aaron Eckhart</td>\n",
       "      <td>Michael Caine</td>\n",
       "      <td>2303232</td>\n",
       "      <td>534,858,444</td>\n",
       "    </tr>\n",
       "    <tr>\n",
       "      <th>2</th>\n",
       "      <td>3</td>\n",
       "      <td>The Godfather: Part II</td>\n",
       "      <td>1974</td>\n",
       "      <td>A</td>\n",
       "      <td>202 min</td>\n",
       "      <td>Crime, Drama</td>\n",
       "      <td>9.0</td>\n",
       "      <td>The early life and career of Vito Corleone in ...</td>\n",
       "      <td>90.0</td>\n",
       "      <td>Francis Ford Coppola</td>\n",
       "      <td>Al Pacino</td>\n",
       "      <td>Robert De Niro</td>\n",
       "      <td>Robert Duvall</td>\n",
       "      <td>Diane Keaton</td>\n",
       "      <td>1129952</td>\n",
       "      <td>57,300,000</td>\n",
       "    </tr>\n",
       "    <tr>\n",
       "      <th>3</th>\n",
       "      <td>4</td>\n",
       "      <td>12 Angry Men</td>\n",
       "      <td>1957</td>\n",
       "      <td>U</td>\n",
       "      <td>96 min</td>\n",
       "      <td>Crime, Drama</td>\n",
       "      <td>9.0</td>\n",
       "      <td>A jury holdout attempts to prevent a miscarria...</td>\n",
       "      <td>96.0</td>\n",
       "      <td>Sidney Lumet</td>\n",
       "      <td>Henry Fonda</td>\n",
       "      <td>Lee J. Cobb</td>\n",
       "      <td>Martin Balsam</td>\n",
       "      <td>John Fiedler</td>\n",
       "      <td>689845</td>\n",
       "      <td>4,360,000</td>\n",
       "    </tr>\n",
       "    <tr>\n",
       "      <th>4</th>\n",
       "      <td>5</td>\n",
       "      <td>The Lord of the Rings: The Return of the King</td>\n",
       "      <td>2003</td>\n",
       "      <td>U</td>\n",
       "      <td>201 min</td>\n",
       "      <td>Action, Adventure, Drama</td>\n",
       "      <td>8.9</td>\n",
       "      <td>Gandalf and Aragorn lead the World of Men agai...</td>\n",
       "      <td>94.0</td>\n",
       "      <td>Peter Jackson</td>\n",
       "      <td>Elijah Wood</td>\n",
       "      <td>Viggo Mortensen</td>\n",
       "      <td>Ian McKellen</td>\n",
       "      <td>Orlando Bloom</td>\n",
       "      <td>1642758</td>\n",
       "      <td>377,845,905</td>\n",
       "    </tr>\n",
       "  </tbody>\n",
       "</table>\n",
       "</div>"
      ],
      "text/plain": [
       "   Unnamed: 0                                   Series_Title Released_Year  \\\n",
       "0           1                                  The Godfather          1972   \n",
       "1           2                                The Dark Knight          2008   \n",
       "2           3                         The Godfather: Part II          1974   \n",
       "3           4                                   12 Angry Men          1957   \n",
       "4           5  The Lord of the Rings: The Return of the King          2003   \n",
       "\n",
       "  Certificate  Runtime                     Genre  IMDB_Rating  \\\n",
       "0           A  175 min              Crime, Drama          9.2   \n",
       "1          UA  152 min      Action, Crime, Drama          9.0   \n",
       "2           A  202 min              Crime, Drama          9.0   \n",
       "3           U   96 min              Crime, Drama          9.0   \n",
       "4           U  201 min  Action, Adventure, Drama          8.9   \n",
       "\n",
       "                                            Overview  Meta_score  \\\n",
       "0  An organized crime dynasty's aging patriarch t...       100.0   \n",
       "1  When the menace known as the Joker wreaks havo...        84.0   \n",
       "2  The early life and career of Vito Corleone in ...        90.0   \n",
       "3  A jury holdout attempts to prevent a miscarria...        96.0   \n",
       "4  Gandalf and Aragorn lead the World of Men agai...        94.0   \n",
       "\n",
       "               Director           Star1            Star2          Star3  \\\n",
       "0  Francis Ford Coppola   Marlon Brando        Al Pacino     James Caan   \n",
       "1     Christopher Nolan  Christian Bale     Heath Ledger  Aaron Eckhart   \n",
       "2  Francis Ford Coppola       Al Pacino   Robert De Niro  Robert Duvall   \n",
       "3          Sidney Lumet     Henry Fonda      Lee J. Cobb  Martin Balsam   \n",
       "4         Peter Jackson     Elijah Wood  Viggo Mortensen   Ian McKellen   \n",
       "\n",
       "           Star4  No_of_Votes        Gross  \n",
       "0   Diane Keaton      1620367  134,966,411  \n",
       "1  Michael Caine      2303232  534,858,444  \n",
       "2   Diane Keaton      1129952   57,300,000  \n",
       "3   John Fiedler       689845    4,360,000  \n",
       "4  Orlando Bloom      1642758  377,845,905  "
      ]
     },
     "execution_count": 198,
     "metadata": {},
     "output_type": "execute_result"
    }
   ],
   "source": [
    "# Primeiras linhas do Dataframe\n",
    "df.head()"
   ]
  },
  {
   "cell_type": "markdown",
   "id": "a0c65818",
   "metadata": {},
   "source": [
    "### Limpeza dos Dados\n",
    "\n",
    "Nesta etapa, será removida a coluna \"Unnamed\" pois se trata apenas de um índice que foi carregado junto aos dados. Em seguida, vamos lidar com duplicatas se necessário e com os valores ausentes."
   ]
  },
  {
   "cell_type": "code",
   "execution_count": null,
   "id": "1d7c22fd",
   "metadata": {},
   "outputs": [],
   "source": [
    "df.drop(columns=\"Unnamed: 0\", inplace=True)"
   ]
  },
  {
   "cell_type": "code",
   "execution_count": 200,
   "id": "10747e80",
   "metadata": {},
   "outputs": [
    {
     "name": "stdout",
     "output_type": "stream",
     "text": [
      "Contagem de filmes com o mesmo nome:\n"
     ]
    },
    {
     "data": {
      "text/plain": [
       "Series_Title\n",
       "Drishyam            2\n",
       "Falling Down        1\n",
       "Cidade de Deus      1\n",
       "The Muppet Movie    1\n",
       "The Warriors        1\n",
       "Name: count, dtype: int64"
      ]
     },
     "execution_count": 200,
     "metadata": {},
     "output_type": "execute_result"
    }
   ],
   "source": [
    "print(\"Contagem de filmes com o mesmo nome:\")\n",
    "df['Series_Title'].value_counts().head()"
   ]
  },
  {
   "cell_type": "markdown",
   "id": "093df65f",
   "metadata": {},
   "source": [
    "Existe apenas um filme com duplicata, o que não irá prejudicar as análises. Um outro ponto importante a se fazer inicialmente, será converter as seguintes colunas para `int`:\n",
    "\n",
    "- Released_Year\n",
    "\n",
    "- Runtime (remover ' min')\n",
    "\n",
    "- Gross (remover vírgulas)\n",
    "\n",
    "Para isso, será necessário a utilização de técnicas específicas durante a conversão de cada uma dessas colunas."
   ]
  },
  {
   "cell_type": "code",
   "execution_count": 201,
   "id": "d14ce9de",
   "metadata": {},
   "outputs": [],
   "source": [
    "# Removendo strings\n",
    "df['Runtime'] = df['Runtime'].str.replace(' min', '')\n",
    "df['Gross'] = df['Gross'].str.replace(',', '')\n",
    "\n",
    "# Colunas alvo\n",
    "conversao_int = [\"Released_Year\", \"Runtime\", \"Gross\"]\n",
    "\n",
    "# Convertendo para int64\n",
    "df[conversao_int] = df[conversao_int].apply(pd.to_numeric, downcast='integer', errors='coerce').astype('Int64')"
   ]
  },
  {
   "cell_type": "code",
   "execution_count": 202,
   "id": "9091c280",
   "metadata": {},
   "outputs": [
    {
     "name": "stdout",
     "output_type": "stream",
     "text": [
      "Tipos de dados após conversão:\n"
     ]
    },
    {
     "data": {
      "text/plain": [
       "Series_Title      object\n",
       "Released_Year      Int64\n",
       "Certificate       object\n",
       "Runtime            Int64\n",
       "Genre             object\n",
       "IMDB_Rating      float64\n",
       "Overview          object\n",
       "Meta_score       float64\n",
       "Director          object\n",
       "Star1             object\n",
       "Star2             object\n",
       "Star3             object\n",
       "Star4             object\n",
       "No_of_Votes        int64\n",
       "Gross              Int64\n",
       "dtype: object"
      ]
     },
     "execution_count": 202,
     "metadata": {},
     "output_type": "execute_result"
    }
   ],
   "source": [
    "print(\"Tipos de dados após conversão:\")\n",
    "df.dtypes"
   ]
  },
  {
   "cell_type": "code",
   "execution_count": 203,
   "id": "224a42ad",
   "metadata": {},
   "outputs": [
    {
     "name": "stdout",
     "output_type": "stream",
     "text": [
      "Contagem de valores nulos por coluna:\n"
     ]
    },
    {
     "data": {
      "text/plain": [
       "Series_Title       0\n",
       "Released_Year      1\n",
       "Certificate      101\n",
       "Runtime            0\n",
       "Genre              0\n",
       "IMDB_Rating        0\n",
       "Overview           0\n",
       "Meta_score       157\n",
       "Director           0\n",
       "Star1              0\n",
       "Star2              0\n",
       "Star3              0\n",
       "Star4              0\n",
       "No_of_Votes        0\n",
       "Gross            169\n",
       "dtype: int64"
      ]
     },
     "execution_count": 203,
     "metadata": {},
     "output_type": "execute_result"
    }
   ],
   "source": [
    "print(\"Contagem de valores nulos por coluna:\")\n",
    "df.isnull().sum()"
   ]
  },
  {
   "cell_type": "markdown",
   "id": "e91565d8",
   "metadata": {},
   "source": [
    "As colunas `Released_Year`, `Certificate`, `Meta_score` e `Gross` possuem valores ausentes que precisam de atenção. Mas primeiro, é necessário observar esses dados de perto. Para isso, será usada uma máscara lógica para observar as amostras e decidir a melhor maneira de lidar com esses valores."
   ]
  },
  {
   "cell_type": "code",
   "execution_count": 204,
   "id": "d5a43eb8",
   "metadata": {},
   "outputs": [
    {
     "data": {
      "text/html": [
       "<div>\n",
       "<style scoped>\n",
       "    .dataframe tbody tr th:only-of-type {\n",
       "        vertical-align: middle;\n",
       "    }\n",
       "\n",
       "    .dataframe tbody tr th {\n",
       "        vertical-align: top;\n",
       "    }\n",
       "\n",
       "    .dataframe thead th {\n",
       "        text-align: right;\n",
       "    }\n",
       "</style>\n",
       "<table border=\"1\" class=\"dataframe\">\n",
       "  <thead>\n",
       "    <tr style=\"text-align: right;\">\n",
       "      <th></th>\n",
       "      <th>Released_Year</th>\n",
       "      <th>Certificate</th>\n",
       "      <th>Meta_score</th>\n",
       "      <th>Gross</th>\n",
       "    </tr>\n",
       "  </thead>\n",
       "  <tbody>\n",
       "    <tr>\n",
       "      <th>0</th>\n",
       "      <td>False</td>\n",
       "      <td>False</td>\n",
       "      <td>False</td>\n",
       "      <td>False</td>\n",
       "    </tr>\n",
       "    <tr>\n",
       "      <th>1</th>\n",
       "      <td>False</td>\n",
       "      <td>False</td>\n",
       "      <td>False</td>\n",
       "      <td>False</td>\n",
       "    </tr>\n",
       "    <tr>\n",
       "      <th>2</th>\n",
       "      <td>False</td>\n",
       "      <td>False</td>\n",
       "      <td>False</td>\n",
       "      <td>False</td>\n",
       "    </tr>\n",
       "    <tr>\n",
       "      <th>3</th>\n",
       "      <td>False</td>\n",
       "      <td>False</td>\n",
       "      <td>False</td>\n",
       "      <td>False</td>\n",
       "    </tr>\n",
       "    <tr>\n",
       "      <th>4</th>\n",
       "      <td>False</td>\n",
       "      <td>False</td>\n",
       "      <td>False</td>\n",
       "      <td>False</td>\n",
       "    </tr>\n",
       "  </tbody>\n",
       "</table>\n",
       "</div>"
      ],
      "text/plain": [
       "   Released_Year  Certificate  Meta_score  Gross\n",
       "0          False        False       False  False\n",
       "1          False        False       False  False\n",
       "2          False        False       False  False\n",
       "3          False        False       False  False\n",
       "4          False        False       False  False"
      ]
     },
     "execution_count": 204,
     "metadata": {},
     "output_type": "execute_result"
    }
   ],
   "source": [
    "# Criando uma máscara lógica com NaNs   \n",
    "colunas_null = [\"Released_Year\", \"Certificate\", \"Meta_score\", \"Gross\"]\n",
    "null_mask = df[colunas_null].isnull()\n",
    "null_mask[0:5]"
   ]
  },
  {
   "cell_type": "code",
   "execution_count": 205,
   "id": "abe0497a",
   "metadata": {},
   "outputs": [
    {
     "data": {
      "text/html": [
       "<div>\n",
       "<style scoped>\n",
       "    .dataframe tbody tr th:only-of-type {\n",
       "        vertical-align: middle;\n",
       "    }\n",
       "\n",
       "    .dataframe tbody tr th {\n",
       "        vertical-align: top;\n",
       "    }\n",
       "\n",
       "    .dataframe thead th {\n",
       "        text-align: right;\n",
       "    }\n",
       "</style>\n",
       "<table border=\"1\" class=\"dataframe\">\n",
       "  <thead>\n",
       "    <tr style=\"text-align: right;\">\n",
       "      <th></th>\n",
       "      <th>Series_Title</th>\n",
       "      <th>Released_Year</th>\n",
       "      <th>Certificate</th>\n",
       "      <th>Runtime</th>\n",
       "      <th>Genre</th>\n",
       "      <th>IMDB_Rating</th>\n",
       "      <th>Overview</th>\n",
       "      <th>Meta_score</th>\n",
       "      <th>Director</th>\n",
       "      <th>Star1</th>\n",
       "      <th>Star2</th>\n",
       "      <th>Star3</th>\n",
       "      <th>Star4</th>\n",
       "      <th>No_of_Votes</th>\n",
       "      <th>Gross</th>\n",
       "    </tr>\n",
       "  </thead>\n",
       "  <tbody>\n",
       "    <tr>\n",
       "      <th>17</th>\n",
       "      <td>Hamilton</td>\n",
       "      <td>2020</td>\n",
       "      <td>PG-13</td>\n",
       "      <td>160</td>\n",
       "      <td>Biography, Drama, History</td>\n",
       "      <td>8.6</td>\n",
       "      <td>The real life of one of America's foremost fou...</td>\n",
       "      <td>90.0</td>\n",
       "      <td>Thomas Kail</td>\n",
       "      <td>Lin-Manuel Miranda</td>\n",
       "      <td>Phillipa Soo</td>\n",
       "      <td>Leslie Odom Jr.</td>\n",
       "      <td>Renée Elise Goldsberry</td>\n",
       "      <td>55291</td>\n",
       "      <td>&lt;NA&gt;</td>\n",
       "    </tr>\n",
       "    <tr>\n",
       "      <th>19</th>\n",
       "      <td>Soorarai Pottru</td>\n",
       "      <td>2020</td>\n",
       "      <td>U</td>\n",
       "      <td>153</td>\n",
       "      <td>Drama</td>\n",
       "      <td>8.6</td>\n",
       "      <td>Nedumaaran Rajangam \"Maara\" sets out to make t...</td>\n",
       "      <td>NaN</td>\n",
       "      <td>Sudha Kongara</td>\n",
       "      <td>Suriya</td>\n",
       "      <td>Madhavan</td>\n",
       "      <td>Paresh Rawal</td>\n",
       "      <td>Aparna Balamurali</td>\n",
       "      <td>54995</td>\n",
       "      <td>&lt;NA&gt;</td>\n",
       "    </tr>\n",
       "    <tr>\n",
       "      <th>29</th>\n",
       "      <td>Seppuku</td>\n",
       "      <td>1962</td>\n",
       "      <td>NaN</td>\n",
       "      <td>133</td>\n",
       "      <td>Action, Drama, Mystery</td>\n",
       "      <td>8.6</td>\n",
       "      <td>When a ronin requesting seppuku at a feudal lo...</td>\n",
       "      <td>85.0</td>\n",
       "      <td>Masaki Kobayashi</td>\n",
       "      <td>Tatsuya Nakadai</td>\n",
       "      <td>Akira Ishihama</td>\n",
       "      <td>Shima Iwashita</td>\n",
       "      <td>Tetsurô Tanba</td>\n",
       "      <td>42004</td>\n",
       "      <td>&lt;NA&gt;</td>\n",
       "    </tr>\n",
       "    <tr>\n",
       "      <th>31</th>\n",
       "      <td>It's a Wonderful Life</td>\n",
       "      <td>1946</td>\n",
       "      <td>PG</td>\n",
       "      <td>130</td>\n",
       "      <td>Drama, Family, Fantasy</td>\n",
       "      <td>8.6</td>\n",
       "      <td>An angel is sent from Heaven to help a despera...</td>\n",
       "      <td>89.0</td>\n",
       "      <td>Frank Capra</td>\n",
       "      <td>James Stewart</td>\n",
       "      <td>Donna Reed</td>\n",
       "      <td>Lionel Barrymore</td>\n",
       "      <td>Thomas Mitchell</td>\n",
       "      <td>405801</td>\n",
       "      <td>&lt;NA&gt;</td>\n",
       "    </tr>\n",
       "    <tr>\n",
       "      <th>45</th>\n",
       "      <td>Hotaru no haka</td>\n",
       "      <td>1988</td>\n",
       "      <td>U</td>\n",
       "      <td>89</td>\n",
       "      <td>Animation, Drama, War</td>\n",
       "      <td>8.5</td>\n",
       "      <td>A young boy and his little sister struggle to ...</td>\n",
       "      <td>94.0</td>\n",
       "      <td>Isao Takahata</td>\n",
       "      <td>Tsutomu Tatsumi</td>\n",
       "      <td>Ayano Shiraishi</td>\n",
       "      <td>Akemi Yamaguchi</td>\n",
       "      <td>Yoshiko Shinohara</td>\n",
       "      <td>235231</td>\n",
       "      <td>&lt;NA&gt;</td>\n",
       "    </tr>\n",
       "  </tbody>\n",
       "</table>\n",
       "</div>"
      ],
      "text/plain": [
       "             Series_Title  Released_Year Certificate  Runtime  \\\n",
       "17               Hamilton           2020       PG-13      160   \n",
       "19        Soorarai Pottru           2020           U      153   \n",
       "29                Seppuku           1962         NaN      133   \n",
       "31  It's a Wonderful Life           1946          PG      130   \n",
       "45         Hotaru no haka           1988           U       89   \n",
       "\n",
       "                        Genre  IMDB_Rating  \\\n",
       "17  Biography, Drama, History          8.6   \n",
       "19                      Drama          8.6   \n",
       "29     Action, Drama, Mystery          8.6   \n",
       "31     Drama, Family, Fantasy          8.6   \n",
       "45      Animation, Drama, War          8.5   \n",
       "\n",
       "                                             Overview  Meta_score  \\\n",
       "17  The real life of one of America's foremost fou...        90.0   \n",
       "19  Nedumaaran Rajangam \"Maara\" sets out to make t...         NaN   \n",
       "29  When a ronin requesting seppuku at a feudal lo...        85.0   \n",
       "31  An angel is sent from Heaven to help a despera...        89.0   \n",
       "45  A young boy and his little sister struggle to ...        94.0   \n",
       "\n",
       "            Director               Star1            Star2             Star3  \\\n",
       "17       Thomas Kail  Lin-Manuel Miranda     Phillipa Soo   Leslie Odom Jr.   \n",
       "19     Sudha Kongara              Suriya         Madhavan      Paresh Rawal   \n",
       "29  Masaki Kobayashi     Tatsuya Nakadai   Akira Ishihama    Shima Iwashita   \n",
       "31       Frank Capra       James Stewart       Donna Reed  Lionel Barrymore   \n",
       "45     Isao Takahata     Tsutomu Tatsumi  Ayano Shiraishi   Akemi Yamaguchi   \n",
       "\n",
       "                     Star4  No_of_Votes  Gross  \n",
       "17  Renée Elise Goldsberry        55291   <NA>  \n",
       "19       Aparna Balamurali        54995   <NA>  \n",
       "29           Tetsurô Tanba        42004   <NA>  \n",
       "31         Thomas Mitchell       405801   <NA>  \n",
       "45       Yoshiko Shinohara       235231   <NA>  "
      ]
     },
     "execution_count": 205,
     "metadata": {},
     "output_type": "execute_result"
    }
   ],
   "source": [
    "# Filtragem com cinco amostras\n",
    "linhas_com_null = null_mask.any(axis=1)\n",
    "df[linhas_com_null].head()"
   ]
  },
  {
   "cell_type": "markdown",
   "id": "f0f760b2",
   "metadata": {},
   "source": [
    "Os valores ausentes irão impactar negativamente o desempenho das analises, principalmente a quantidade de NaNs em `Meta_score` e `Gross`. A melhor decisão, será remover esses valores."
   ]
  },
  {
   "cell_type": "code",
   "execution_count": 206,
   "id": "6bf3af39",
   "metadata": {},
   "outputs": [],
   "source": [
    "df.dropna(inplace=True)"
   ]
  },
  {
   "cell_type": "code",
   "execution_count": 207,
   "id": "6e5e8fb3",
   "metadata": {},
   "outputs": [
    {
     "name": "stdout",
     "output_type": "stream",
     "text": [
      "Quantidade de linhas após remoção de NaNs: 712\n",
      "Valores nulos restantes:\n"
     ]
    },
    {
     "data": {
      "text/plain": [
       "Series_Title     0\n",
       "Released_Year    0\n",
       "Certificate      0\n",
       "Runtime          0\n",
       "Genre            0\n",
       "IMDB_Rating      0\n",
       "Overview         0\n",
       "Meta_score       0\n",
       "Director         0\n",
       "Star1            0\n",
       "Star2            0\n",
       "Star3            0\n",
       "Star4            0\n",
       "No_of_Votes      0\n",
       "Gross            0\n",
       "dtype: int64"
      ]
     },
     "execution_count": 207,
     "metadata": {},
     "output_type": "execute_result"
    }
   ],
   "source": [
    "print(f\"Quantidade de linhas após remoção de NaNs: {df.shape[0]}\\nValores nulos restantes:\")\n",
    "df.isna().sum()"
   ]
  },
  {
   "cell_type": "markdown",
   "id": "122260c9",
   "metadata": {},
   "source": [
    "## Análise Exploratória de Dados - EDA"
   ]
  },
  {
   "cell_type": "code",
   "execution_count": 208,
   "id": "1ddd6c14",
   "metadata": {},
   "outputs": [
    {
     "data": {
      "text/html": [
       "<div>\n",
       "<style scoped>\n",
       "    .dataframe tbody tr th:only-of-type {\n",
       "        vertical-align: middle;\n",
       "    }\n",
       "\n",
       "    .dataframe tbody tr th {\n",
       "        vertical-align: top;\n",
       "    }\n",
       "\n",
       "    .dataframe thead th {\n",
       "        text-align: right;\n",
       "    }\n",
       "</style>\n",
       "<table border=\"1\" class=\"dataframe\">\n",
       "  <thead>\n",
       "    <tr style=\"text-align: right;\">\n",
       "      <th></th>\n",
       "      <th>Released_Year</th>\n",
       "      <th>Runtime</th>\n",
       "      <th>IMDB_Rating</th>\n",
       "      <th>Meta_score</th>\n",
       "      <th>No_of_Votes</th>\n",
       "      <th>Gross</th>\n",
       "    </tr>\n",
       "  </thead>\n",
       "  <tbody>\n",
       "    <tr>\n",
       "      <th>count</th>\n",
       "      <td>712.0</td>\n",
       "      <td>712.0</td>\n",
       "      <td>712.000000</td>\n",
       "      <td>712.000000</td>\n",
       "      <td>7.120000e+02</td>\n",
       "      <td>712.0</td>\n",
       "    </tr>\n",
       "    <tr>\n",
       "      <th>mean</th>\n",
       "      <td>1995.738764</td>\n",
       "      <td>123.667135</td>\n",
       "      <td>7.935674</td>\n",
       "      <td>77.154494</td>\n",
       "      <td>3.534662e+05</td>\n",
       "      <td>78450169.183989</td>\n",
       "    </tr>\n",
       "    <tr>\n",
       "      <th>std</th>\n",
       "      <td>18.611182</td>\n",
       "      <td>25.907607</td>\n",
       "      <td>0.288928</td>\n",
       "      <td>12.418115</td>\n",
       "      <td>3.464502e+05</td>\n",
       "      <td>115068637.166882</td>\n",
       "    </tr>\n",
       "    <tr>\n",
       "      <th>min</th>\n",
       "      <td>1930.0</td>\n",
       "      <td>72.0</td>\n",
       "      <td>7.600000</td>\n",
       "      <td>28.000000</td>\n",
       "      <td>2.522900e+04</td>\n",
       "      <td>1305.0</td>\n",
       "    </tr>\n",
       "    <tr>\n",
       "      <th>25%</th>\n",
       "      <td>1986.75</td>\n",
       "      <td>104.0</td>\n",
       "      <td>7.700000</td>\n",
       "      <td>69.750000</td>\n",
       "      <td>9.566475e+04</td>\n",
       "      <td>6143199.0</td>\n",
       "    </tr>\n",
       "    <tr>\n",
       "      <th>50%</th>\n",
       "      <td>2001.0</td>\n",
       "      <td>120.0</td>\n",
       "      <td>7.900000</td>\n",
       "      <td>78.000000</td>\n",
       "      <td>2.359815e+05</td>\n",
       "      <td>34850145.5</td>\n",
       "    </tr>\n",
       "    <tr>\n",
       "      <th>75%</th>\n",
       "      <td>2010.0</td>\n",
       "      <td>136.0</td>\n",
       "      <td>8.100000</td>\n",
       "      <td>86.000000</td>\n",
       "      <td>5.065428e+05</td>\n",
       "      <td>102360615.0</td>\n",
       "    </tr>\n",
       "    <tr>\n",
       "      <th>max</th>\n",
       "      <td>2019.0</td>\n",
       "      <td>238.0</td>\n",
       "      <td>9.200000</td>\n",
       "      <td>100.000000</td>\n",
       "      <td>2.303232e+06</td>\n",
       "      <td>936662225.0</td>\n",
       "    </tr>\n",
       "  </tbody>\n",
       "</table>\n",
       "</div>"
      ],
      "text/plain": [
       "       Released_Year     Runtime  IMDB_Rating  Meta_score   No_of_Votes  \\\n",
       "count          712.0       712.0   712.000000  712.000000  7.120000e+02   \n",
       "mean     1995.738764  123.667135     7.935674   77.154494  3.534662e+05   \n",
       "std        18.611182   25.907607     0.288928   12.418115  3.464502e+05   \n",
       "min           1930.0        72.0     7.600000   28.000000  2.522900e+04   \n",
       "25%          1986.75       104.0     7.700000   69.750000  9.566475e+04   \n",
       "50%           2001.0       120.0     7.900000   78.000000  2.359815e+05   \n",
       "75%           2010.0       136.0     8.100000   86.000000  5.065428e+05   \n",
       "max           2019.0       238.0     9.200000  100.000000  2.303232e+06   \n",
       "\n",
       "                  Gross  \n",
       "count             712.0  \n",
       "mean    78450169.183989  \n",
       "std    115068637.166882  \n",
       "min              1305.0  \n",
       "25%           6143199.0  \n",
       "50%          34850145.5  \n",
       "75%         102360615.0  \n",
       "max         936662225.0  "
      ]
     },
     "execution_count": 208,
     "metadata": {},
     "output_type": "execute_result"
    }
   ],
   "source": [
    "df.describe()"
   ]
  },
  {
   "cell_type": "markdown",
   "id": "831ae31e",
   "metadata": {},
   "source": [
    "A partir do resumo estatístico da função `describe()` já é possível notar muitos insights interessantes:\n",
    "\n",
    "- Os filmes estão entre os anos de 1930 à 2019\n",
    "\n",
    "- Em média, os filmes possuem 2 horas de duração (123 minutos)\n",
    "\n",
    "- Não temos filmes com uma nota máxima no IMDB, mas temos uma nota bem alta com 9,2\n",
    "\n",
    "- Filme(s) com um meta score que atingiu 100 pontos\n",
    "\n",
    "- Título(s) que obteve um alto faturamento, com aproximadamente 930 milhões\n",
    "\n",
    "A análise exploratória será desenvolvida em subtópicos para responder algumas perguntas e para manter uma organização."
   ]
  },
  {
   "cell_type": "markdown",
   "id": "769fa6ae",
   "metadata": {},
   "source": [
    "### Recomendação de filme"
   ]
  },
  {
   "cell_type": "code",
   "execution_count": 209,
   "id": "dc1cfd6f",
   "metadata": {},
   "outputs": [
    {
     "data": {
      "text/html": [
       "<div>\n",
       "<style scoped>\n",
       "    .dataframe tbody tr th:only-of-type {\n",
       "        vertical-align: middle;\n",
       "    }\n",
       "\n",
       "    .dataframe tbody tr th {\n",
       "        vertical-align: top;\n",
       "    }\n",
       "\n",
       "    .dataframe thead th {\n",
       "        text-align: right;\n",
       "    }\n",
       "</style>\n",
       "<table border=\"1\" class=\"dataframe\">\n",
       "  <thead>\n",
       "    <tr style=\"text-align: right;\">\n",
       "      <th></th>\n",
       "      <th>Series_Title</th>\n",
       "      <th>Released_Year</th>\n",
       "      <th>Runtime</th>\n",
       "      <th>IMDB_Rating</th>\n",
       "      <th>Meta_score</th>\n",
       "      <th>No_of_Votes</th>\n",
       "      <th>Gross</th>\n",
       "    </tr>\n",
       "  </thead>\n",
       "  <tbody>\n",
       "    <tr>\n",
       "      <th>0</th>\n",
       "      <td>The Godfather</td>\n",
       "      <td>1972</td>\n",
       "      <td>175</td>\n",
       "      <td>9.2</td>\n",
       "      <td>100.0</td>\n",
       "      <td>1620367</td>\n",
       "      <td>134966411</td>\n",
       "    </tr>\n",
       "    <tr>\n",
       "      <th>1</th>\n",
       "      <td>The Dark Knight</td>\n",
       "      <td>2008</td>\n",
       "      <td>152</td>\n",
       "      <td>9.0</td>\n",
       "      <td>84.0</td>\n",
       "      <td>2303232</td>\n",
       "      <td>534858444</td>\n",
       "    </tr>\n",
       "    <tr>\n",
       "      <th>2</th>\n",
       "      <td>The Godfather: Part II</td>\n",
       "      <td>1974</td>\n",
       "      <td>202</td>\n",
       "      <td>9.0</td>\n",
       "      <td>90.0</td>\n",
       "      <td>1129952</td>\n",
       "      <td>57300000</td>\n",
       "    </tr>\n",
       "    <tr>\n",
       "      <th>3</th>\n",
       "      <td>12 Angry Men</td>\n",
       "      <td>1957</td>\n",
       "      <td>96</td>\n",
       "      <td>9.0</td>\n",
       "      <td>96.0</td>\n",
       "      <td>689845</td>\n",
       "      <td>4360000</td>\n",
       "    </tr>\n",
       "    <tr>\n",
       "      <th>4</th>\n",
       "      <td>Pulp Fiction</td>\n",
       "      <td>1994</td>\n",
       "      <td>154</td>\n",
       "      <td>8.9</td>\n",
       "      <td>94.0</td>\n",
       "      <td>1826188</td>\n",
       "      <td>107928762</td>\n",
       "    </tr>\n",
       "  </tbody>\n",
       "</table>\n",
       "</div>"
      ],
      "text/plain": [
       "             Series_Title  Released_Year  Runtime  IMDB_Rating  Meta_score  \\\n",
       "0           The Godfather           1972      175          9.2       100.0   \n",
       "1         The Dark Knight           2008      152          9.0        84.0   \n",
       "2  The Godfather: Part II           1974      202          9.0        90.0   \n",
       "3            12 Angry Men           1957       96          9.0        96.0   \n",
       "4            Pulp Fiction           1994      154          8.9        94.0   \n",
       "\n",
       "   No_of_Votes      Gross  \n",
       "0      1620367  134966411  \n",
       "1      2303232  534858444  \n",
       "2      1129952   57300000  \n",
       "3       689845    4360000  \n",
       "4      1826188  107928762  "
      ]
     },
     "execution_count": 209,
     "metadata": {},
     "output_type": "execute_result"
    }
   ],
   "source": [
    "# Recomendando um filme a partir das features numéricas\n",
    "col_recomend = [\"Series_Title\", \"Released_Year\", \"Runtime\", \"IMDB_Rating\", \"Meta_score\", \"No_of_Votes\", \"Gross\"]\n",
    "\n",
    "df_recomend = df[col_recomend].copy()\n",
    "df_recomend.sort_values(by=[\"IMDB_Rating\", \"No_of_Votes\"], ascending=False, inplace=True, ignore_index=True)\n",
    "df_recomend.head()"
   ]
  },
  {
   "cell_type": "markdown",
   "id": "528f67de",
   "metadata": {},
   "source": [
    "O filme que seria uma recomendação para uma pessoa, seria o filme **The Dark Knight**. A escolha foi pensada em relação à nota alta do IMDB, o número de votos e o ano de lançamento. O faturamente foi alto, mas isso é influenciado por diversos fatores que vai além dos nossos dados, como a popularidade do \"super-herói\". Mesmo o filme **The Godfather** estando em primeiro com uma nota excelente e muito bem votado, esse filme foi estreado em 1972 e isso possivelmente não agradaria a maioria das pessoas. Por esse motivo, confirmo a indicação para o filme **The Dark Knight**."
   ]
  },
  {
   "cell_type": "markdown",
   "id": "9211bdee",
   "metadata": {},
   "source": [
    "### Análise dos Gêneros"
   ]
  },
  {
   "cell_type": "markdown",
   "id": "b08a2734",
   "metadata": {},
   "source": [
    "Abaixo, vamos analizar a destribuição de gêneros que temos para descobrir quais são os mais frequentes. Para isso, será necessário dividir os campos separados por virgula e fazer uma contagem unificada, que será observada em um gráfico de barras."
   ]
  },
  {
   "cell_type": "code",
   "execution_count": 210,
   "id": "69bab053",
   "metadata": {},
   "outputs": [],
   "source": [
    "# Preparando os dados para plotagens futuras com os gêneros\n",
    "df_exploded = df.copy()\n",
    "\n",
    "df_exploded['Genre'] = df_exploded['Genre'].str.split(', ?')\n",
    "df_exploded = df_exploded.explode('Genre')\n",
    "df_exploded['Genre'] = df_exploded['Genre'].str.strip()\n",
    "\n",
    "# Dados para o top10 de generos\n",
    "df_genre_counts = df_exploded['Genre'].value_counts().reset_index()\n",
    "df_genre_counts.columns = ['Genre', 'Count']\n",
    "\n",
    "# Definindo x, y do plot\n",
    "generos = df_genre_counts['Genre'].head(10)\n",
    "contagem = df_genre_counts['Count'].head(10)"
   ]
  },
  {
   "cell_type": "code",
   "execution_count": 211,
   "id": "81d3cd5b",
   "metadata": {},
   "outputs": [
    {
     "data": {
      "image/png": "[encoded data removed]",
      "text/plain": [
       "<Figure size 800x600 with 1 Axes>"
      ]
     },
     "metadata": {},
     "output_type": "display_data"
    }
   ],
   "source": [
    "# Gráfico de Barras\n",
    "plt.figure(figsize=(8,6))\n",
    "ax = sns.barplot(x=generos, \n",
    "                 y=contagem, \n",
    "                 palette=cores)\n",
    "\n",
    "for i in range(len(generos)):\n",
    "    ax.annotate(f\"{contagem[i]:.0f}\",\n",
    "                (i, contagem[i]),\n",
    "                ha=\"center\",\n",
    "                xytext=(0, 4),\n",
    "                textcoords=\"offset points\",\n",
    "                fontsize=9,\n",
    "                fontweight=\"bold\")\n",
    "\n",
    "ax.set_title(\"Top 10 Gêneros mais Frequentes\\n\", fontsize=12, fontweight=\"bold\")\n",
    "ax.set_xlabel(\"\")\n",
    "ax.set_ylabel(\"Quantidade de Filmes\")\n",
    "\n",
    "ax.yaxis.set_visible(False)\n",
    "ax.spines[\"top\"].set_visible(False)\n",
    "ax.spines[\"right\"].set_visible(False)\n",
    "ax.spines[\"left\"].set_visible(False)\n",
    "\n",
    "plt.tight_layout()\n",
    "plt.show()"
   ]
  },
  {
   "cell_type": "markdown",
   "id": "bb8048b8",
   "metadata": {},
   "source": [
    "Podemos observar que o gênero **Drama** é disparado o mais frequente de filmes disponíveis no dataset, seguindo em segunda posição o gênero de **Adventure** com uma **diferença de 207%**. \n",
    "\n",
    "Geralmente, os filmes dramáticos costumam ter uma duração mais longa para um melhor aprofundamento dos personagens com uma narrativa mais complexa... mas isso seria mesmo verdade? Para isso, faremos uma análise direcionada aos três primeiros gêneros do top 10."
   ]
  },
  {
   "cell_type": "code",
   "execution_count": 212,
   "id": "0f255e91",
   "metadata": {},
   "outputs": [],
   "source": [
    "# Preparando os dados\n",
    "gen_select = ['Drama', 'Adventure', 'Comedy']\n",
    "df_boxplot = df_exploded[df_exploded['Genre'].isin(gen_select)]"
   ]
  },
  {
   "cell_type": "code",
   "execution_count": 213,
   "id": "b54c52cd",
   "metadata": {},
   "outputs": [
    {
     "data": {
      "image/png": "[encoded data removed]",
      "text/plain": [
       "<Figure size 1000x600 with 1 Axes>"
      ]
     },
     "metadata": {},
     "output_type": "display_data"
    }
   ],
   "source": [
    "# Plot com\n",
    "plt.figure(figsize=(10,6))\n",
    "sns.violinplot(data=df_boxplot,\n",
    "               x='Genre',\n",
    "               y='Runtime',\n",
    "               palette=cores)\n",
    "\n",
    "plt.title(\"Distribuição do Runtime\\n\",fontsize=14, fontweight='bold')\n",
    "plt.xlabel(\"\")\n",
    "plt.ylabel(\"Duração (minutos)\")\n",
    "plt.show()"
   ]
  },
  {
   "cell_type": "markdown",
   "id": "d5389b1f",
   "metadata": {},
   "source": [
    "Analisando o gráfico Violin Plot, podemos observar o \"corpo do violino\" dos três gêneros. O formato mais largo, indica onde existe uma alta concentração de densidade dos dados.\n",
    "\n",
    "- **Drama:** A parte mais largas do violino indica uma que os filmes dramáticos possuem em média uma duração de aproximadamente 125 minutos, levando em conta a barra preta no meio, indicando o intervalo interqualtil dos dados (variando de 110 à 140 minutos, aproximadamente). \n",
    "\n",
    "- **Adventure:** Possui uma distribuição menos acentuada, com uma duração próxima aos filmes dramáticos com uma tendência à serem mais curtos em sua maior distribuição.\n",
    "\n",
    "- **Comedy:** Por outro lado, os filmes de comédia possui uma distribuição bastante acentuada, com uma duração de 100 minutos dos filmes.\n",
    "\n",
    "Podemos concluir que, levando em conta aos filmes do top 10, os dois primeiros da colocação possuem uma duração proxima. Sendo assim, os filmes dramáticos podem ser mais longos que os filmes de aventura e comédia ao observar as distribuições de densidade, mas isso não é generalizável, pois muitos filmes de aventura ainda conseguem ser tão longos quanto."
   ]
  },
  {
   "cell_type": "markdown",
   "id": "1233d830",
   "metadata": {},
   "source": [
    "### Correlação do Faturamento"
   ]
  },
  {
   "cell_type": "code",
   "execution_count": 214,
   "id": "fc475793",
   "metadata": {},
   "outputs": [
    {
     "data": {
      "text/html": [
       "<div>\n",
       "<style scoped>\n",
       "    .dataframe tbody tr th:only-of-type {\n",
       "        vertical-align: middle;\n",
       "    }\n",
       "\n",
       "    .dataframe tbody tr th {\n",
       "        vertical-align: top;\n",
       "    }\n",
       "\n",
       "    .dataframe thead th {\n",
       "        text-align: right;\n",
       "    }\n",
       "</style>\n",
       "<table border=\"1\" class=\"dataframe\">\n",
       "  <thead>\n",
       "    <tr style=\"text-align: right;\">\n",
       "      <th></th>\n",
       "      <th>Released_Year</th>\n",
       "      <th>Runtime</th>\n",
       "      <th>IMDB_Rating</th>\n",
       "      <th>Meta_score</th>\n",
       "      <th>No_of_Votes</th>\n",
       "      <th>Gross</th>\n",
       "    </tr>\n",
       "  </thead>\n",
       "  <tbody>\n",
       "    <tr>\n",
       "      <th>Released_Year</th>\n",
       "      <td>1.000000</td>\n",
       "      <td>-0.017884</td>\n",
       "      <td>-0.178896</td>\n",
       "      <td>-0.272659</td>\n",
       "      <td>0.200074</td>\n",
       "      <td>0.234654</td>\n",
       "    </tr>\n",
       "    <tr>\n",
       "      <th>Runtime</th>\n",
       "      <td>-0.017884</td>\n",
       "      <td>1.000000</td>\n",
       "      <td>0.258985</td>\n",
       "      <td>-0.005938</td>\n",
       "      <td>0.213211</td>\n",
       "      <td>0.168775</td>\n",
       "    </tr>\n",
       "    <tr>\n",
       "      <th>IMDB_Rating</th>\n",
       "      <td>-0.178896</td>\n",
       "      <td>0.258985</td>\n",
       "      <td>1.000000</td>\n",
       "      <td>0.283994</td>\n",
       "      <td>0.609444</td>\n",
       "      <td>0.132396</td>\n",
       "    </tr>\n",
       "    <tr>\n",
       "      <th>Meta_score</th>\n",
       "      <td>-0.272659</td>\n",
       "      <td>-0.005938</td>\n",
       "      <td>0.283994</td>\n",
       "      <td>1.000000</td>\n",
       "      <td>0.028575</td>\n",
       "      <td>-0.014656</td>\n",
       "    </tr>\n",
       "    <tr>\n",
       "      <th>No_of_Votes</th>\n",
       "      <td>0.200074</td>\n",
       "      <td>0.213211</td>\n",
       "      <td>0.609444</td>\n",
       "      <td>0.028575</td>\n",
       "      <td>1.000000</td>\n",
       "      <td>0.561532</td>\n",
       "    </tr>\n",
       "    <tr>\n",
       "      <th>Gross</th>\n",
       "      <td>0.234654</td>\n",
       "      <td>0.168775</td>\n",
       "      <td>0.132396</td>\n",
       "      <td>-0.014656</td>\n",
       "      <td>0.561532</td>\n",
       "      <td>1.000000</td>\n",
       "    </tr>\n",
       "  </tbody>\n",
       "</table>\n",
       "</div>"
      ],
      "text/plain": [
       "               Released_Year   Runtime  IMDB_Rating  Meta_score  No_of_Votes  \\\n",
       "Released_Year       1.000000 -0.017884    -0.178896   -0.272659     0.200074   \n",
       "Runtime            -0.017884  1.000000     0.258985   -0.005938     0.213211   \n",
       "IMDB_Rating        -0.178896  0.258985     1.000000    0.283994     0.609444   \n",
       "Meta_score         -0.272659 -0.005938     0.283994    1.000000     0.028575   \n",
       "No_of_Votes         0.200074  0.213211     0.609444    0.028575     1.000000   \n",
       "Gross               0.234654  0.168775     0.132396   -0.014656     0.561532   \n",
       "\n",
       "                  Gross  \n",
       "Released_Year  0.234654  \n",
       "Runtime        0.168775  \n",
       "IMDB_Rating    0.132396  \n",
       "Meta_score    -0.014656  \n",
       "No_of_Votes    0.561532  \n",
       "Gross          1.000000  "
      ]
     },
     "execution_count": 214,
     "metadata": {},
     "output_type": "execute_result"
    }
   ],
   "source": [
    "df_corr = df_recomend.drop(columns='Series_Title')\n",
    "df_corr.corr()"
   ]
  },
  {
   "cell_type": "code",
   "execution_count": 215,
   "id": "47137035",
   "metadata": {},
   "outputs": [
    {
     "data": {
      "image/png": "[encoded data removed]",
      "text/plain": [
       "<Figure size 1000x600 with 2 Axes>"
      ]
     },
     "metadata": {},
     "output_type": "display_data"
    }
   ],
   "source": [
    "# Representação gráfica\n",
    "plt.figure(figsize=(10,6))\n",
    "sns.heatmap(df_corr.corr(),\n",
    "            annot=True,\n",
    "            cmap=cores)\n",
    "\n",
    "plt.title(\"Correlação das Features Numéricas\\n\", fontweight='bold')\n",
    "plt.show()"
   ]
  },
  {
   "cell_type": "markdown",
   "id": "b52c38ad",
   "metadata": {},
   "source": [
    "Analisando o gráfico de calor, podemos ver que existe uma correlação positiva do faturamento `Gross` com o número de votos `No_of_Votes` com `0.56`. É deduzível com esse gráfico que quanto mais o público gosta do filme (votos), mais o filme tende a ser lucrativo. Mas isso é apenas uma análise superficial, pois podem existir mais features que influenciam nesse retorno financeiro.\n",
    "\n",
    "Deste modo, vamos observar como o faturamento se sai ao levarmos em conta outras features não numéricas."
   ]
  },
  {
   "cell_type": "code",
   "execution_count": 216,
   "id": "8e624e21",
   "metadata": {},
   "outputs": [
    {
     "data": {
      "text/html": [
       "<div>\n",
       "<style scoped>\n",
       "    .dataframe tbody tr th:only-of-type {\n",
       "        vertical-align: middle;\n",
       "    }\n",
       "\n",
       "    .dataframe tbody tr th {\n",
       "        vertical-align: top;\n",
       "    }\n",
       "\n",
       "    .dataframe thead th {\n",
       "        text-align: right;\n",
       "    }\n",
       "</style>\n",
       "<table border=\"1\" class=\"dataframe\">\n",
       "  <thead>\n",
       "    <tr style=\"text-align: right;\">\n",
       "      <th></th>\n",
       "      <th>Series_Title</th>\n",
       "      <th>Director</th>\n",
       "      <th>Star1</th>\n",
       "      <th>Star2</th>\n",
       "      <th>No_of_Votes</th>\n",
       "      <th>Gross</th>\n",
       "    </tr>\n",
       "  </thead>\n",
       "  <tbody>\n",
       "    <tr>\n",
       "      <th>0</th>\n",
       "      <td>The Dark Knight</td>\n",
       "      <td>Christopher Nolan</td>\n",
       "      <td>Christian Bale</td>\n",
       "      <td>Heath Ledger</td>\n",
       "      <td>2303232</td>\n",
       "      <td>534858444</td>\n",
       "    </tr>\n",
       "    <tr>\n",
       "      <th>1</th>\n",
       "      <td>Inception</td>\n",
       "      <td>Christopher Nolan</td>\n",
       "      <td>Leonardo DiCaprio</td>\n",
       "      <td>Joseph Gordon-Levitt</td>\n",
       "      <td>2067042</td>\n",
       "      <td>292576195</td>\n",
       "    </tr>\n",
       "    <tr>\n",
       "      <th>2</th>\n",
       "      <td>Fight Club</td>\n",
       "      <td>David Fincher</td>\n",
       "      <td>Brad Pitt</td>\n",
       "      <td>Edward Norton</td>\n",
       "      <td>1854740</td>\n",
       "      <td>37030102</td>\n",
       "    </tr>\n",
       "    <tr>\n",
       "      <th>3</th>\n",
       "      <td>Pulp Fiction</td>\n",
       "      <td>Quentin Tarantino</td>\n",
       "      <td>John Travolta</td>\n",
       "      <td>Uma Thurman</td>\n",
       "      <td>1826188</td>\n",
       "      <td>107928762</td>\n",
       "    </tr>\n",
       "    <tr>\n",
       "      <th>4</th>\n",
       "      <td>Forrest Gump</td>\n",
       "      <td>Robert Zemeckis</td>\n",
       "      <td>Tom Hanks</td>\n",
       "      <td>Robin Wright</td>\n",
       "      <td>1809221</td>\n",
       "      <td>330252182</td>\n",
       "    </tr>\n",
       "    <tr>\n",
       "      <th>5</th>\n",
       "      <td>The Matrix</td>\n",
       "      <td>Lana Wachowski</td>\n",
       "      <td>Lilly Wachowski</td>\n",
       "      <td>Keanu Reeves</td>\n",
       "      <td>1676426</td>\n",
       "      <td>171479930</td>\n",
       "    </tr>\n",
       "    <tr>\n",
       "      <th>6</th>\n",
       "      <td>The Lord of the Rings: The Fellowship of the Ring</td>\n",
       "      <td>Peter Jackson</td>\n",
       "      <td>Elijah Wood</td>\n",
       "      <td>Ian McKellen</td>\n",
       "      <td>1661481</td>\n",
       "      <td>315544750</td>\n",
       "    </tr>\n",
       "    <tr>\n",
       "      <th>7</th>\n",
       "      <td>The Lord of the Rings: The Return of the King</td>\n",
       "      <td>Peter Jackson</td>\n",
       "      <td>Elijah Wood</td>\n",
       "      <td>Viggo Mortensen</td>\n",
       "      <td>1642758</td>\n",
       "      <td>377845905</td>\n",
       "    </tr>\n",
       "    <tr>\n",
       "      <th>8</th>\n",
       "      <td>The Godfather</td>\n",
       "      <td>Francis Ford Coppola</td>\n",
       "      <td>Marlon Brando</td>\n",
       "      <td>Al Pacino</td>\n",
       "      <td>1620367</td>\n",
       "      <td>134966411</td>\n",
       "    </tr>\n",
       "    <tr>\n",
       "      <th>9</th>\n",
       "      <td>The Dark Knight Rises</td>\n",
       "      <td>Christopher Nolan</td>\n",
       "      <td>Christian Bale</td>\n",
       "      <td>Tom Hardy</td>\n",
       "      <td>1516346</td>\n",
       "      <td>448139099</td>\n",
       "    </tr>\n",
       "  </tbody>\n",
       "</table>\n",
       "</div>"
      ],
      "text/plain": [
       "                                        Series_Title              Director  \\\n",
       "0                                    The Dark Knight     Christopher Nolan   \n",
       "1                                          Inception     Christopher Nolan   \n",
       "2                                         Fight Club         David Fincher   \n",
       "3                                       Pulp Fiction     Quentin Tarantino   \n",
       "4                                       Forrest Gump       Robert Zemeckis   \n",
       "5                                         The Matrix        Lana Wachowski   \n",
       "6  The Lord of the Rings: The Fellowship of the Ring         Peter Jackson   \n",
       "7      The Lord of the Rings: The Return of the King         Peter Jackson   \n",
       "8                                      The Godfather  Francis Ford Coppola   \n",
       "9                              The Dark Knight Rises     Christopher Nolan   \n",
       "\n",
       "               Star1                 Star2  No_of_Votes      Gross  \n",
       "0     Christian Bale          Heath Ledger      2303232  534858444  \n",
       "1  Leonardo DiCaprio  Joseph Gordon-Levitt      2067042  292576195  \n",
       "2          Brad Pitt         Edward Norton      1854740   37030102  \n",
       "3      John Travolta           Uma Thurman      1826188  107928762  \n",
       "4          Tom Hanks          Robin Wright      1809221  330252182  \n",
       "5    Lilly Wachowski          Keanu Reeves      1676426  171479930  \n",
       "6        Elijah Wood          Ian McKellen      1661481  315544750  \n",
       "7        Elijah Wood       Viggo Mortensen      1642758  377845905  \n",
       "8      Marlon Brando             Al Pacino      1620367  134966411  \n",
       "9     Christian Bale             Tom Hardy      1516346  448139099  "
      ]
     },
     "execution_count": 216,
     "metadata": {},
     "output_type": "execute_result"
    }
   ],
   "source": [
    "col_stars = [\"Series_Title\", \"Director\", \"Star1\", \"Star2\", \"No_of_Votes\", \"Gross\"]\n",
    "df_stars = df[col_stars].copy()\n",
    "\n",
    "df_stars.sort_values(by=[\"No_of_Votes\", \"Gross\"], ascending=False, inplace=True, ignore_index=True)\n",
    "df_stars.head(10)"
   ]
  },
  {
   "cell_type": "markdown",
   "id": "c113259a",
   "metadata": {},
   "source": [
    "Levando em conta que quanto mais o público vota em um filme mais ele tende a lucrar (hipótese), foi passado o `No_of_Votes` como argumento primário durante o `sort.values()`.\n",
    "\n",
    "Com isso, é possível confirmar que nomes conhecidos, tanto dos diretores quanto das estrelas em `Star1` influenciam fortemente para uma boa margem de lucro de um filme, principalmente do **Christopher Nolan**."
   ]
  },
  {
   "cell_type": "markdown",
   "id": "4c9396f2",
   "metadata": {},
   "source": [
    "### Insights em Overview"
   ]
  },
  {
   "cell_type": "code",
   "execution_count": 217,
   "id": "9f127cf7",
   "metadata": {},
   "outputs": [
    {
     "data": {
      "text/plain": [
       "\"An organized crime dynasty's aging patriarch transfers control of his clandestine empire to his reluctant son.\""
      ]
     },
     "execution_count": 217,
     "metadata": {},
     "output_type": "execute_result"
    }
   ],
   "source": [
    "df.loc[0,'Overview']"
   ]
  },
  {
   "cell_type": "markdown",
   "id": "a4e7be73",
   "metadata": {},
   "source": [
    "A coluna \"Overview\" se trata de uma sinopse para os filmes. Por estar em textos extensos, será necessário aplicar técnicas de Processamento de Linguagem Natural para uma extração mais acertiva de informações e de insights.\n",
    "\n",
    "Deste modo, será criado uma função para pré-processar o texto e separá-los em tokens a partir de um doc do `spacy`."
   ]
  },
  {
   "cell_type": "code",
   "execution_count": 218,
   "id": "96252547",
   "metadata": {},
   "outputs": [],
   "source": [
    "# Carregando um modelo leve do spaCy\n",
    "nlp = spacy.load(\"en_core_web_sm\")\n",
    "\n",
    "def preprocessador(text):\n",
    "    \"\"\"\n",
    "    Preprocessa um texto reduzindo letras à minúsculas,\n",
    "    remove números, símbolos e pontuações, \n",
    "    normaliza espaços em branco,\n",
    "    remove stop words e lematiza as palavras.\n",
    "    Respectivamente.\n",
    "\n",
    "    Args:\n",
    "        text (str): O texto a ser pre-processado.\n",
    "\n",
    "    Returns:\n",
    "        list: Lista de tokens. Em caso de erro, retorna uma lista vazia.\n",
    "    \"\"\"\n",
    "    try:\n",
    "        text = text.lower() \n",
    "        text = re.sub(r'\\d+', '', text)\n",
    "        text = re.sub(r'[^a-zA-Z0-9\\s]', '', text)\n",
    "        text = re.sub(r'\\s+', ' ', text)\n",
    "\n",
    "        doc = nlp(text)\n",
    "        tokens = [token.lemma_ for token in doc if token.is_alpha and not token.is_stop]\n",
    "\n",
    "        return tokens\n",
    "       \n",
    "    except Exception as e:\n",
    "        print(f\"Erro no pre-processamento: {e}\")\n",
    "        return []"
   ]
  },
  {
   "cell_type": "code",
   "execution_count": 219,
   "id": "21fe684a",
   "metadata": {},
   "outputs": [
    {
     "name": "stdout",
     "output_type": "stream",
     "text": [
      "Texto original: An organized crime dynasty's aging patriarch transfers control of his clandestine empire to his reluctant son.\n",
      "Texto Pre-Processado e em Tokens: ['organized', 'crime', 'dynasty', 'age', 'patriarch', 'transfer', 'control', 'clandestine', 'empire', 'reluctant', 'son']\n"
     ]
    }
   ],
   "source": [
    "# Aplicando a função em uma cópia dos dados\n",
    "df_pln = df[[\"Overview\", \"Genre\"]].copy()\n",
    "df_pln[\"Overview\"] = df_pln[\"Overview\"].apply(preprocessador)\n",
    "\n",
    "print(f\"Texto original: {df.loc[0,'Overview']}\")\n",
    "print(f\"Texto Pre-Processado e em Tokens: {df_pln.loc[0,'Overview']}\")"
   ]
  },
  {
   "cell_type": "markdown",
   "id": "7573bd8d",
   "metadata": {},
   "source": [
    "O texo original teve as palavras isoladas (tokens) em uma lista. Foram removidos artigos, preposições, conectivos e varias outras palavras que são redundantes para esse tipo de tarefa. Alguma palavras também foram lematizadas, ou seja, voltaram as suas origens (como \"aging\" para \"age\" ou \"transfers\" para \"transfer\"). Isso ajuda a normalizar as palavras unificando as que possuem o mesmo valor semântico.\n",
    "\n",
    "Feito isso, agora podemos iniciar uma contagem das palavras mais frequentes de todo o texto e também de alguns gêneros que serão selecionados."
   ]
  },
  {
   "cell_type": "code",
   "execution_count": 220,
   "id": "62df7f07",
   "metadata": {},
   "outputs": [
    {
     "name": "stdout",
     "output_type": "stream",
     "text": [
      "Palavras mais comuns no dataset inteiro:\n",
      "[('life', 96), ('young', 91), ('man', 76), ('find', 76), ('world', 65)]\n"
     ]
    }
   ],
   "source": [
    "df_tokens = df_pln.explode(\"Overview\")\n",
    "\n",
    "# Iniciando contagem\n",
    "contagem_geral = Counter(df_tokens[\"Overview\"])\n",
    "print(\"Palavras mais comuns no dataset inteiro:\")\n",
    "print(contagem_geral.most_common(5))"
   ]
  },
  {
   "cell_type": "code",
   "execution_count": 221,
   "id": "81b7031f",
   "metadata": {},
   "outputs": [
    {
     "name": "stdout",
     "output_type": "stream",
     "text": [
      "\n",
      "Palavras mais comuns em Adventure:\n",
      " Token  Frequência\n",
      " world          26\n",
      " young          23\n",
      "  find          18\n",
      "friend          15\n",
      "   new          14\n",
      "\n",
      "Palavras mais comuns em Crime:\n",
      " Token  Frequência\n",
      "murder          19\n",
      "  find          16\n",
      "  life          15\n",
      "   man          15\n",
      "police          15\n",
      "\n",
      "Palavras mais comuns em Romance:\n",
      "Token  Frequência\n",
      "woman          17\n",
      " love          16\n",
      " life          16\n",
      "  man          15\n",
      "young          15\n"
     ]
    }
   ],
   "source": [
    "generos_alvo = [\"Adventure\", \"Crime\", \"Romance\"]\n",
    "contagem_genero = {}\n",
    "\n",
    "df_tokens[\"Genre\"] = df_tokens[\"Genre\"].astype(str).fillna(\"\")\n",
    "\n",
    "for gen in generos_alvo:\n",
    "    tokens_g = df_tokens[df_tokens[\"Genre\"].str.contains(gen, case=False)][\"Overview\"]\n",
    "    contagem_genero[gen] = Counter(tokens_g).most_common(5)\n",
    "\n",
    "for gen, contagem in contagem_genero.items():\n",
    "    df_tokens = pd.DataFrame(contagem, columns=['Token', 'Frequência'])\n",
    "    print(f\"\\nPalavras mais comuns em {gen}:\")\n",
    "    print(df_tokens.to_string(index=False))"
   ]
  },
  {
   "cell_type": "markdown",
   "id": "a907d3f4",
   "metadata": {},
   "source": [
    "Ao observar cada um dos três gêneros selecionados, podemos tirar conclusões intuitivas a partir do `Overview` e deduzir qual é o seu gênero a apartir das contagens de palavras:\n",
    "\n",
    "- **Adventure:** Palavras como: world, find, new, friend. traz uma ideia de coisas novas, encontrar coisas em um mundo ou até mesmo fazer amizades.\n",
    "\n",
    "- **Crime:** Murder, find, police, traz uma ideia de filmes investigativos, com muito mistério envolvido.\n",
    "\n",
    "- **Romance:** Woman, love, man, traz uma ideia de filmes amorosos e romanticos.\n",
    "\n",
    "Por fim, é possível deduzir de maneira simples os gêneros dos filmes a partir do `Overview` com contagens de tokens usando um modelo leve do spacy. Para uma confirmação mais precisa, seria necessário utilizar técnicas mais avançadas, ou até mesmo modelos mais robustos como o BERT."
   ]
  },
  {
   "cell_type": "markdown",
   "id": "1b2c1f23",
   "metadata": {},
   "source": [
    "## Previsão de notas IMDB"
   ]
  },
  {
   "cell_type": "markdown",
   "id": "c1c05ee4",
   "metadata": {},
   "source": [
    "Existem algumas features categoricas e muitas outras textuais com muitas informações importantes para uma avaliação no IMDB. Se criarmos um modelo baseado apenas nas features numéricas, iriamos perder muito valor. Deste modo, irei precisar aplicar diversas técnicas para transformar esses dados com engenharia de features."
   ]
  },
  {
   "cell_type": "code",
   "execution_count": 222,
   "id": "724a54f3",
   "metadata": {},
   "outputs": [
    {
     "data": {
      "text/plain": [
       "Index(['Series_Title', 'Released_Year', 'Certificate', 'Runtime', 'Genre',\n",
       "       'IMDB_Rating', 'Overview', 'Meta_score', 'Director', 'Star1', 'Star2',\n",
       "       'Star3', 'Star4', 'No_of_Votes', 'Gross'],\n",
       "      dtype='object')"
      ]
     },
     "execution_count": 222,
     "metadata": {},
     "output_type": "execute_result"
    }
   ],
   "source": [
    "df.columns"
   ]
  },
  {
   "cell_type": "code",
   "execution_count": 223,
   "id": "7bd489f2",
   "metadata": {},
   "outputs": [
    {
     "data": {
      "text/html": [
       "<div>\n",
       "<style scoped>\n",
       "    .dataframe tbody tr th:only-of-type {\n",
       "        vertical-align: middle;\n",
       "    }\n",
       "\n",
       "    .dataframe tbody tr th {\n",
       "        vertical-align: top;\n",
       "    }\n",
       "\n",
       "    .dataframe thead th {\n",
       "        text-align: right;\n",
       "    }\n",
       "</style>\n",
       "<table border=\"1\" class=\"dataframe\">\n",
       "  <thead>\n",
       "    <tr style=\"text-align: right;\">\n",
       "      <th></th>\n",
       "      <th>Released_Year</th>\n",
       "      <th>Certificate</th>\n",
       "      <th>Runtime</th>\n",
       "      <th>Genre</th>\n",
       "      <th>IMDB_Rating</th>\n",
       "      <th>Meta_score</th>\n",
       "      <th>Director</th>\n",
       "      <th>Star1</th>\n",
       "      <th>Star2</th>\n",
       "      <th>Star3</th>\n",
       "      <th>Star4</th>\n",
       "      <th>No_of_Votes</th>\n",
       "      <th>Gross</th>\n",
       "    </tr>\n",
       "  </thead>\n",
       "  <tbody>\n",
       "    <tr>\n",
       "      <th>0</th>\n",
       "      <td>1972</td>\n",
       "      <td>A</td>\n",
       "      <td>175</td>\n",
       "      <td>Crime, Drama</td>\n",
       "      <td>9.2</td>\n",
       "      <td>100.0</td>\n",
       "      <td>Francis Ford Coppola</td>\n",
       "      <td>Marlon Brando</td>\n",
       "      <td>Al Pacino</td>\n",
       "      <td>James Caan</td>\n",
       "      <td>Diane Keaton</td>\n",
       "      <td>1620367</td>\n",
       "      <td>134966411</td>\n",
       "    </tr>\n",
       "    <tr>\n",
       "      <th>1</th>\n",
       "      <td>2008</td>\n",
       "      <td>UA</td>\n",
       "      <td>152</td>\n",
       "      <td>Action, Crime, Drama</td>\n",
       "      <td>9.0</td>\n",
       "      <td>84.0</td>\n",
       "      <td>Christopher Nolan</td>\n",
       "      <td>Christian Bale</td>\n",
       "      <td>Heath Ledger</td>\n",
       "      <td>Aaron Eckhart</td>\n",
       "      <td>Michael Caine</td>\n",
       "      <td>2303232</td>\n",
       "      <td>534858444</td>\n",
       "    </tr>\n",
       "  </tbody>\n",
       "</table>\n",
       "</div>"
      ],
      "text/plain": [
       "   Released_Year Certificate  Runtime                 Genre  IMDB_Rating  \\\n",
       "0           1972           A      175          Crime, Drama          9.2   \n",
       "1           2008          UA      152  Action, Crime, Drama          9.0   \n",
       "\n",
       "   Meta_score              Director           Star1         Star2  \\\n",
       "0       100.0  Francis Ford Coppola   Marlon Brando     Al Pacino   \n",
       "1        84.0     Christopher Nolan  Christian Bale  Heath Ledger   \n",
       "\n",
       "           Star3          Star4  No_of_Votes      Gross  \n",
       "0     James Caan   Diane Keaton      1620367  134966411  \n",
       "1  Aaron Eckhart  Michael Caine      2303232  534858444  "
      ]
     },
     "execution_count": 223,
     "metadata": {},
     "output_type": "execute_result"
    }
   ],
   "source": [
    "# Preparando os dados para o modelo de ML\n",
    "df_ml = df.drop(columns=[\"Overview\", \"Series_Title\"])\n",
    "df_ml.head(2)"
   ]
  },
  {
   "cell_type": "markdown",
   "id": "c4336b78",
   "metadata": {},
   "source": [
    "### Engenharia de Features"
   ]
  },
  {
   "cell_type": "markdown",
   "id": "c728e650",
   "metadata": {},
   "source": [
    "Analisando o dataframe com os tokens, nota-se que a coluna `Genre` também está presente e isso irá facilitar um pouco à transformar essa coluna categorica em numerica. Para isso, será aplicado uma técnica de binarização mult-label para lidar com os gêneros.."
   ]
  },
  {
   "cell_type": "code",
   "execution_count": 224,
   "id": "dbd9c1ad",
   "metadata": {},
   "outputs": [
    {
     "data": {
      "text/html": [
       "<div>\n",
       "<style scoped>\n",
       "    .dataframe tbody tr th:only-of-type {\n",
       "        vertical-align: middle;\n",
       "    }\n",
       "\n",
       "    .dataframe tbody tr th {\n",
       "        vertical-align: top;\n",
       "    }\n",
       "\n",
       "    .dataframe thead th {\n",
       "        text-align: right;\n",
       "    }\n",
       "</style>\n",
       "<table border=\"1\" class=\"dataframe\">\n",
       "  <thead>\n",
       "    <tr style=\"text-align: right;\">\n",
       "      <th></th>\n",
       "      <th>Action</th>\n",
       "      <th>Adventure</th>\n",
       "      <th>Animation</th>\n",
       "      <th>Biography</th>\n",
       "      <th>Comedy</th>\n",
       "      <th>Crime</th>\n",
       "      <th>Drama</th>\n",
       "      <th>Family</th>\n",
       "      <th>Fantasy</th>\n",
       "      <th>Film-Noir</th>\n",
       "      <th>...</th>\n",
       "      <th>Horror</th>\n",
       "      <th>Music</th>\n",
       "      <th>Musical</th>\n",
       "      <th>Mystery</th>\n",
       "      <th>Romance</th>\n",
       "      <th>Sci-Fi</th>\n",
       "      <th>Sport</th>\n",
       "      <th>Thriller</th>\n",
       "      <th>War</th>\n",
       "      <th>Western</th>\n",
       "    </tr>\n",
       "  </thead>\n",
       "  <tbody>\n",
       "    <tr>\n",
       "      <th>0</th>\n",
       "      <td>0</td>\n",
       "      <td>0</td>\n",
       "      <td>0</td>\n",
       "      <td>0</td>\n",
       "      <td>0</td>\n",
       "      <td>1</td>\n",
       "      <td>1</td>\n",
       "      <td>0</td>\n",
       "      <td>0</td>\n",
       "      <td>0</td>\n",
       "      <td>...</td>\n",
       "      <td>0</td>\n",
       "      <td>0</td>\n",
       "      <td>0</td>\n",
       "      <td>0</td>\n",
       "      <td>0</td>\n",
       "      <td>0</td>\n",
       "      <td>0</td>\n",
       "      <td>0</td>\n",
       "      <td>0</td>\n",
       "      <td>0</td>\n",
       "    </tr>\n",
       "    <tr>\n",
       "      <th>1</th>\n",
       "      <td>1</td>\n",
       "      <td>0</td>\n",
       "      <td>0</td>\n",
       "      <td>0</td>\n",
       "      <td>0</td>\n",
       "      <td>1</td>\n",
       "      <td>1</td>\n",
       "      <td>0</td>\n",
       "      <td>0</td>\n",
       "      <td>0</td>\n",
       "      <td>...</td>\n",
       "      <td>0</td>\n",
       "      <td>0</td>\n",
       "      <td>0</td>\n",
       "      <td>0</td>\n",
       "      <td>0</td>\n",
       "      <td>0</td>\n",
       "      <td>0</td>\n",
       "      <td>0</td>\n",
       "      <td>0</td>\n",
       "      <td>0</td>\n",
       "    </tr>\n",
       "    <tr>\n",
       "      <th>2</th>\n",
       "      <td>0</td>\n",
       "      <td>0</td>\n",
       "      <td>0</td>\n",
       "      <td>0</td>\n",
       "      <td>0</td>\n",
       "      <td>1</td>\n",
       "      <td>1</td>\n",
       "      <td>0</td>\n",
       "      <td>0</td>\n",
       "      <td>0</td>\n",
       "      <td>...</td>\n",
       "      <td>0</td>\n",
       "      <td>0</td>\n",
       "      <td>0</td>\n",
       "      <td>0</td>\n",
       "      <td>0</td>\n",
       "      <td>0</td>\n",
       "      <td>0</td>\n",
       "      <td>0</td>\n",
       "      <td>0</td>\n",
       "      <td>0</td>\n",
       "    </tr>\n",
       "    <tr>\n",
       "      <th>3</th>\n",
       "      <td>0</td>\n",
       "      <td>0</td>\n",
       "      <td>0</td>\n",
       "      <td>0</td>\n",
       "      <td>0</td>\n",
       "      <td>1</td>\n",
       "      <td>1</td>\n",
       "      <td>0</td>\n",
       "      <td>0</td>\n",
       "      <td>0</td>\n",
       "      <td>...</td>\n",
       "      <td>0</td>\n",
       "      <td>0</td>\n",
       "      <td>0</td>\n",
       "      <td>0</td>\n",
       "      <td>0</td>\n",
       "      <td>0</td>\n",
       "      <td>0</td>\n",
       "      <td>0</td>\n",
       "      <td>0</td>\n",
       "      <td>0</td>\n",
       "    </tr>\n",
       "    <tr>\n",
       "      <th>4</th>\n",
       "      <td>1</td>\n",
       "      <td>1</td>\n",
       "      <td>0</td>\n",
       "      <td>0</td>\n",
       "      <td>0</td>\n",
       "      <td>0</td>\n",
       "      <td>1</td>\n",
       "      <td>0</td>\n",
       "      <td>0</td>\n",
       "      <td>0</td>\n",
       "      <td>...</td>\n",
       "      <td>0</td>\n",
       "      <td>0</td>\n",
       "      <td>0</td>\n",
       "      <td>0</td>\n",
       "      <td>0</td>\n",
       "      <td>0</td>\n",
       "      <td>0</td>\n",
       "      <td>0</td>\n",
       "      <td>0</td>\n",
       "      <td>0</td>\n",
       "    </tr>\n",
       "  </tbody>\n",
       "</table>\n",
       "<p>5 rows × 21 columns</p>\n",
       "</div>"
      ],
      "text/plain": [
       "   Action  Adventure  Animation  Biography  Comedy  Crime  Drama  Family  \\\n",
       "0       0          0          0          0       0      1      1       0   \n",
       "1       1          0          0          0       0      1      1       0   \n",
       "2       0          0          0          0       0      1      1       0   \n",
       "3       0          0          0          0       0      1      1       0   \n",
       "4       1          1          0          0       0      0      1       0   \n",
       "\n",
       "   Fantasy  Film-Noir  ...  Horror  Music  Musical  Mystery  Romance  Sci-Fi  \\\n",
       "0        0          0  ...       0      0        0        0        0       0   \n",
       "1        0          0  ...       0      0        0        0        0       0   \n",
       "2        0          0  ...       0      0        0        0        0       0   \n",
       "3        0          0  ...       0      0        0        0        0       0   \n",
       "4        0          0  ...       0      0        0        0        0       0   \n",
       "\n",
       "   Sport  Thriller  War  Western  \n",
       "0      0         0    0        0  \n",
       "1      0         0    0        0  \n",
       "2      0         0    0        0  \n",
       "3      0         0    0        0  \n",
       "4      0         0    0        0  \n",
       "\n",
       "[5 rows x 21 columns]"
      ]
     },
     "execution_count": 224,
     "metadata": {},
     "output_type": "execute_result"
    }
   ],
   "source": [
    "generos = df_ml[\"Genre\"].apply(lambda x: [genero.strip() for genero in x.split(\",\")])\n",
    "\n",
    "mlb = MultiLabelBinarizer()\n",
    "df_generos = pd.DataFrame(mlb.fit_transform(generos),\n",
    "                          columns=mlb.classes_,\n",
    "                          index=df.index)\n",
    "df_generos.iloc[:5,]"
   ]
  },
  {
   "cell_type": "code",
   "execution_count": 225,
   "id": "be910b3b",
   "metadata": {},
   "outputs": [],
   "source": [
    "# juntando os dataframes\n",
    "df_ml = pd.concat([df_ml, df_generos], axis=1)\n",
    "df_ml.drop(columns=\"Genre\", inplace=True)"
   ]
  },
  {
   "cell_type": "code",
   "execution_count": 226,
   "id": "94f72b09",
   "metadata": {},
   "outputs": [
    {
     "data": {
      "text/plain": [
       "Certificate\n",
       "U           182\n",
       "A           173\n",
       "UA          142\n",
       "R           131\n",
       "PG-13        38\n",
       "PG           19\n",
       "G             9\n",
       "Passed        9\n",
       "Approved      6\n",
       "TV-PG         1\n",
       "U/A           1\n",
       "GP            1\n",
       "Name: count, dtype: int64"
      ]
     },
     "execution_count": 226,
     "metadata": {},
     "output_type": "execute_result"
    }
   ],
   "source": [
    "# Contando as certificações\n",
    "counts = df_ml['Certificate'].value_counts()\n",
    "counts"
   ]
  },
  {
   "cell_type": "markdown",
   "id": "8a1a65dc",
   "metadata": {},
   "source": [
    "Para lidar com a feature `Certificate` , vou aplicar o OneHot para binarizar os essas entradas. É notável que existe um grande desbalanceamento nos dados, mas isso será resolvido ao agrupar essas classificações mais raras como \"other\""
   ]
  },
  {
   "cell_type": "code",
   "execution_count": 227,
   "id": "0b6134d9",
   "metadata": {},
   "outputs": [
    {
     "data": {
      "text/plain": [
       "Certificate\n",
       "U        182\n",
       "A        173\n",
       "UA       142\n",
       "R        131\n",
       "Other     46\n",
       "PG-13     38\n",
       "Name: count, dtype: int64"
      ]
     },
     "execution_count": 227,
     "metadata": {},
     "output_type": "execute_result"
    }
   ],
   "source": [
    "# Definir um limite\n",
    "limite = 20\n",
    "rare_class = counts[counts < limite].index\n",
    "\n",
    "df_ml['Certificate'] = df_ml['Certificate'].replace(rare_class, 'Other')\n",
    "df_ml['Certificate'].value_counts()"
   ]
  },
  {
   "cell_type": "markdown",
   "id": "173f7c7b",
   "metadata": {},
   "source": [
    "Ao pesquisar mais afundo, pude notar que as classificações mais relevantes são a partir do PG-13 para cima. Sendo:\n",
    "\n",
    "- U - Universal\n",
    "\n",
    "- A - Adulto\n",
    "\n",
    "- UA - Universal com Supervisão Adulta\n",
    "\n",
    "- R - Restrito para menores de 17 anos\n",
    "\n",
    "- PG-13 - Supervisão dos pais para crianças\n",
    "\n",
    "Ao definir `PG` como `Others` , isso unifica demais classificações que possuem uma contagem baixa, o que poderá melhorar o desempenho do modelo e evitar Overfitting.\n",
    "\n",
    "A seguir, será aplicado o OneHot com dummies para transformar essa coluna de categórica para numérica."
   ]
  },
  {
   "cell_type": "code",
   "execution_count": 228,
   "id": "a6993c1c",
   "metadata": {},
   "outputs": [],
   "source": [
    "df_ml = pd.get_dummies(df_ml, columns=['Certificate'], prefix='Cert', dtype=int)"
   ]
  },
  {
   "cell_type": "code",
   "execution_count": 229,
   "id": "0f24fdd2",
   "metadata": {},
   "outputs": [
    {
     "data": {
      "text/html": [
       "<div>\n",
       "<style scoped>\n",
       "    .dataframe tbody tr th:only-of-type {\n",
       "        vertical-align: middle;\n",
       "    }\n",
       "\n",
       "    .dataframe tbody tr th {\n",
       "        vertical-align: top;\n",
       "    }\n",
       "\n",
       "    .dataframe thead th {\n",
       "        text-align: right;\n",
       "    }\n",
       "</style>\n",
       "<table border=\"1\" class=\"dataframe\">\n",
       "  <thead>\n",
       "    <tr style=\"text-align: right;\">\n",
       "      <th></th>\n",
       "      <th>Cert_U</th>\n",
       "      <th>Cert_A</th>\n",
       "      <th>Cert_UA</th>\n",
       "      <th>Cert_R</th>\n",
       "      <th>Cert_PG-13</th>\n",
       "      <th>Cert_Other</th>\n",
       "    </tr>\n",
       "  </thead>\n",
       "  <tbody>\n",
       "    <tr>\n",
       "      <th>0</th>\n",
       "      <td>0</td>\n",
       "      <td>1</td>\n",
       "      <td>0</td>\n",
       "      <td>0</td>\n",
       "      <td>0</td>\n",
       "      <td>0</td>\n",
       "    </tr>\n",
       "    <tr>\n",
       "      <th>1</th>\n",
       "      <td>0</td>\n",
       "      <td>0</td>\n",
       "      <td>1</td>\n",
       "      <td>0</td>\n",
       "      <td>0</td>\n",
       "      <td>0</td>\n",
       "    </tr>\n",
       "  </tbody>\n",
       "</table>\n",
       "</div>"
      ],
      "text/plain": [
       "   Cert_U  Cert_A  Cert_UA  Cert_R  Cert_PG-13  Cert_Other\n",
       "0       0       1        0       0           0           0\n",
       "1       0       0        1       0           0           0"
      ]
     },
     "execution_count": 229,
     "metadata": {},
     "output_type": "execute_result"
    }
   ],
   "source": [
    "# Visão das primeiras linhas dos dummies\n",
    "df_ml[[\"Cert_U\", \"Cert_A\", \"Cert_UA\", \"Cert_R\", \"Cert_PG-13\", \"Cert_Other\"]].head(2)"
   ]
  },
  {
   "cell_type": "markdown",
   "id": "7a39890b",
   "metadata": {},
   "source": [
    "Agora precisamos transformas as últimas features que em tese, podem ser as mais importantes para uma nota do IMDB. As colunas `Director` e as outras `Star`, são fatores de grande peso para atrair públicos, impactar na narrativa e desenvolvimento de um filme, além de trazer reconhecimento aos avaliadores para uma nota elevada. \n",
    "\n",
    "Deste modo, será necessário transformar essas features em numéricas. Uma solução acertiva que poderia ser aplicada aqui, é levar em conta ao \"histórico\" dos atores e dos diretores. Quando um ator ou um diretor possui filmes com boas notas, isso basicamente agrega a sua reputação. Pensando neste raciocínio, será aplicado a média de cada diretor/autor baseado nas notas IMDB e criar novas features a partir disso."
   ]
  },
  {
   "cell_type": "code",
   "execution_count": 230,
   "id": "19e5ee53",
   "metadata": {},
   "outputs": [],
   "source": [
    "# Features para Director\n",
    "nota_media_diretor = df_ml.groupby('Director')['IMDB_Rating'].mean()\n",
    "df_ml['Director_Nota'] = df_ml['Director'].map(nota_media_diretor)\n",
    "\n",
    "# Features para Star, iterando entre as colunas\n",
    "for i in range(1, 5):\n",
    "    col = f\"Star{i}\"\n",
    "    nova_col = f\"{col}_Nota\"\n",
    "\n",
    "    nota_media_star = df_ml.groupby(col)['IMDB_Rating'].mean()\n",
    "    df_ml[nova_col] = df_ml[col].map(nota_media_star).fillna(df_ml['IMDB_Rating'].mean())\n",
    "\n",
    "colunas_drop = [\"Director\", \"Star1\", \"Star2\", \"Star3\", \"Star4\"]\n",
    "df_ml.drop(columns=colunas_drop, inplace=True)"
   ]
  },
  {
   "cell_type": "code",
   "execution_count": 231,
   "id": "06b94ff3",
   "metadata": {},
   "outputs": [
    {
     "data": {
      "text/html": [
       "<div>\n",
       "<style scoped>\n",
       "    .dataframe tbody tr th:only-of-type {\n",
       "        vertical-align: middle;\n",
       "    }\n",
       "\n",
       "    .dataframe tbody tr th {\n",
       "        vertical-align: top;\n",
       "    }\n",
       "\n",
       "    .dataframe thead th {\n",
       "        text-align: right;\n",
       "    }\n",
       "</style>\n",
       "<table border=\"1\" class=\"dataframe\">\n",
       "  <thead>\n",
       "    <tr style=\"text-align: right;\">\n",
       "      <th></th>\n",
       "      <th>Released_Year</th>\n",
       "      <th>Runtime</th>\n",
       "      <th>IMDB_Rating</th>\n",
       "      <th>Meta_score</th>\n",
       "      <th>No_of_Votes</th>\n",
       "      <th>Gross</th>\n",
       "      <th>Action</th>\n",
       "      <th>Adventure</th>\n",
       "      <th>Animation</th>\n",
       "      <th>Biography</th>\n",
       "      <th>...</th>\n",
       "      <th>Cert_Other</th>\n",
       "      <th>Cert_PG-13</th>\n",
       "      <th>Cert_R</th>\n",
       "      <th>Cert_U</th>\n",
       "      <th>Cert_UA</th>\n",
       "      <th>Director_Nota</th>\n",
       "      <th>Star1_Nota</th>\n",
       "      <th>Star2_Nota</th>\n",
       "      <th>Star3_Nota</th>\n",
       "      <th>Star4_Nota</th>\n",
       "    </tr>\n",
       "  </thead>\n",
       "  <tbody>\n",
       "    <tr>\n",
       "      <th>0</th>\n",
       "      <td>1972</td>\n",
       "      <td>175</td>\n",
       "      <td>9.2</td>\n",
       "      <td>100.0</td>\n",
       "      <td>1620367</td>\n",
       "      <td>134966411</td>\n",
       "      <td>0</td>\n",
       "      <td>0</td>\n",
       "      <td>0</td>\n",
       "      <td>0</td>\n",
       "      <td>...</td>\n",
       "      <td>0</td>\n",
       "      <td>0</td>\n",
       "      <td>0</td>\n",
       "      <td>0</td>\n",
       "      <td>0</td>\n",
       "      <td>8.4000</td>\n",
       "      <td>8.6500</td>\n",
       "      <td>8.300000</td>\n",
       "      <td>9.2</td>\n",
       "      <td>9.100</td>\n",
       "    </tr>\n",
       "    <tr>\n",
       "      <th>1</th>\n",
       "      <td>2008</td>\n",
       "      <td>152</td>\n",
       "      <td>9.0</td>\n",
       "      <td>84.0</td>\n",
       "      <td>2303232</td>\n",
       "      <td>534858444</td>\n",
       "      <td>1</td>\n",
       "      <td>0</td>\n",
       "      <td>0</td>\n",
       "      <td>0</td>\n",
       "      <td>...</td>\n",
       "      <td>0</td>\n",
       "      <td>0</td>\n",
       "      <td>0</td>\n",
       "      <td>0</td>\n",
       "      <td>1</td>\n",
       "      <td>8.4625</td>\n",
       "      <td>8.1125</td>\n",
       "      <td>8.350000</td>\n",
       "      <td>9.0</td>\n",
       "      <td>8.275</td>\n",
       "    </tr>\n",
       "    <tr>\n",
       "      <th>2</th>\n",
       "      <td>1974</td>\n",
       "      <td>202</td>\n",
       "      <td>9.0</td>\n",
       "      <td>90.0</td>\n",
       "      <td>1129952</td>\n",
       "      <td>57300000</td>\n",
       "      <td>0</td>\n",
       "      <td>0</td>\n",
       "      <td>0</td>\n",
       "      <td>0</td>\n",
       "      <td>...</td>\n",
       "      <td>0</td>\n",
       "      <td>0</td>\n",
       "      <td>0</td>\n",
       "      <td>0</td>\n",
       "      <td>0</td>\n",
       "      <td>8.4000</td>\n",
       "      <td>8.0100</td>\n",
       "      <td>8.566667</td>\n",
       "      <td>8.7</td>\n",
       "      <td>9.100</td>\n",
       "    </tr>\n",
       "    <tr>\n",
       "      <th>3</th>\n",
       "      <td>1957</td>\n",
       "      <td>96</td>\n",
       "      <td>9.0</td>\n",
       "      <td>96.0</td>\n",
       "      <td>689845</td>\n",
       "      <td>4360000</td>\n",
       "      <td>0</td>\n",
       "      <td>0</td>\n",
       "      <td>0</td>\n",
       "      <td>0</td>\n",
       "      <td>...</td>\n",
       "      <td>0</td>\n",
       "      <td>0</td>\n",
       "      <td>0</td>\n",
       "      <td>1</td>\n",
       "      <td>0</td>\n",
       "      <td>8.1000</td>\n",
       "      <td>8.5000</td>\n",
       "      <td>9.000000</td>\n",
       "      <td>9.0</td>\n",
       "      <td>9.000</td>\n",
       "    </tr>\n",
       "    <tr>\n",
       "      <th>4</th>\n",
       "      <td>2003</td>\n",
       "      <td>201</td>\n",
       "      <td>8.9</td>\n",
       "      <td>94.0</td>\n",
       "      <td>1642758</td>\n",
       "      <td>377845905</td>\n",
       "      <td>1</td>\n",
       "      <td>1</td>\n",
       "      <td>0</td>\n",
       "      <td>0</td>\n",
       "      <td>...</td>\n",
       "      <td>0</td>\n",
       "      <td>0</td>\n",
       "      <td>0</td>\n",
       "      <td>1</td>\n",
       "      <td>0</td>\n",
       "      <td>8.4000</td>\n",
       "      <td>8.8000</td>\n",
       "      <td>8.250000</td>\n",
       "      <td>8.9</td>\n",
       "      <td>8.800</td>\n",
       "    </tr>\n",
       "  </tbody>\n",
       "</table>\n",
       "<p>5 rows × 38 columns</p>\n",
       "</div>"
      ],
      "text/plain": [
       "   Released_Year  Runtime  IMDB_Rating  Meta_score  No_of_Votes      Gross  \\\n",
       "0           1972      175          9.2       100.0      1620367  134966411   \n",
       "1           2008      152          9.0        84.0      2303232  534858444   \n",
       "2           1974      202          9.0        90.0      1129952   57300000   \n",
       "3           1957       96          9.0        96.0       689845    4360000   \n",
       "4           2003      201          8.9        94.0      1642758  377845905   \n",
       "\n",
       "   Action  Adventure  Animation  Biography  ...  Cert_Other  Cert_PG-13  \\\n",
       "0       0          0          0          0  ...           0           0   \n",
       "1       1          0          0          0  ...           0           0   \n",
       "2       0          0          0          0  ...           0           0   \n",
       "3       0          0          0          0  ...           0           0   \n",
       "4       1          1          0          0  ...           0           0   \n",
       "\n",
       "   Cert_R  Cert_U  Cert_UA  Director_Nota  Star1_Nota  Star2_Nota  Star3_Nota  \\\n",
       "0       0       0        0         8.4000      8.6500    8.300000         9.2   \n",
       "1       0       0        1         8.4625      8.1125    8.350000         9.0   \n",
       "2       0       0        0         8.4000      8.0100    8.566667         8.7   \n",
       "3       0       1        0         8.1000      8.5000    9.000000         9.0   \n",
       "4       0       1        0         8.4000      8.8000    8.250000         8.9   \n",
       "\n",
       "   Star4_Nota  \n",
       "0       9.100  \n",
       "1       8.275  \n",
       "2       9.100  \n",
       "3       9.000  \n",
       "4       8.800  \n",
       "\n",
       "[5 rows x 38 columns]"
      ]
     },
     "execution_count": 231,
     "metadata": {},
     "output_type": "execute_result"
    }
   ],
   "source": [
    "df_ml.head()"
   ]
  },
  {
   "cell_type": "markdown",
   "id": "35a3af69",
   "metadata": {},
   "source": [
    "### Modelagem"
   ]
  },
  {
   "cell_type": "markdown",
   "id": "6f876cf4",
   "metadata": {},
   "source": [
    "Para este dataset, queremos descobrir e prever notas IMDB de filmes que o modelo à ser treinado, ainda não conhece. Deste modo, por se tratar de um valor constante e não uma categoria, será utiizado um modelo de **regressão**.\n",
    "\n",
    "Deste modo, irei dividir os dados em treino e teste."
   ]
  },
  {
   "cell_type": "code",
   "execution_count": 232,
   "id": "a557a657",
   "metadata": {},
   "outputs": [
    {
     "name": "stdout",
     "output_type": "stream",
     "text": [
      "Quantidade de dados para treino: (569, 37)\n",
      "Quantidade de dados para teste: (143, 37)\n"
     ]
    }
   ],
   "source": [
    "X = df_ml.drop(columns=[\"IMDB_Rating\"])\n",
    "y = df_ml[\"IMDB_Rating\"]\n",
    "\n",
    "X_train, X_test, y_train, y_test = train_test_split(X, y, test_size=0.2, random_state=42)\n",
    "\n",
    "print(\"Quantidade de dados para treino:\", X_train.shape)\n",
    "print(\"Quantidade de dados para teste:\", X_test.shape)"
   ]
  },
  {
   "cell_type": "markdown",
   "id": "19e9b43a",
   "metadata": {},
   "source": [
    "Temos uma quantidade de 569 amostras de treino e 143 dados que serão usados para o teste. Após as engenharias de features, o dataframe alcançou um total de 34 features.\n",
    "\n",
    "Para este dataset, será criado um pipeline com o modelo de regressão linear em sua versão regularizada, conhecido como `Ridge`. Esse modelo tem um ponto negativo por ser muito sensível a dados em escala, como por exemplo: minutos, segundos, valores de orçamento em milhões e números pequenos como binários. Para isso, será utilizado um scaler para ajudar na performance.\n",
    "\n",
    "Durante o pipeline, serão aplicadas diversas técnicas para melhorar o desempenho do modelo como:\n",
    "\n",
    "- **Cálculos estátisticos** aplicados aos parâmetros para percorrer em um intervalo, utilizando `loguniform` para distribuição logarítima dentro de um espaço, o que será muito útil para escolher o `alpha`, já que ele possui números muito pequenos (0,01) e numeros muito grandes em sua magnitude (100).\n",
    "\n",
    "- **Escalonamento** com `RobustScaler` por lidar bem com outliers. Os outliers não foram removidos pois trazem informações úteis de certos filmes que se beneficiaram de grandes valores (ou o contrário).\n",
    "\n",
    "- **Otimização de hiperparâmetros** com o `RandomizedSearchCV` para testar diferentes combinações de parâmetros para escolher o ideal a ser usado pelo modelo. Mas ele não irá testar todas as combinações possíveis como o GridSearch, por conta disso será mais rápido.\n",
    "\n",
    "Os resultados do modelo serão avaliados utilizando como métrica primária o R² e as outras métricas MAE, MSE e RMSE para uma melhor visão dos erros. Essas métricas foram escolhidas pois queremos saber o quanto o modelo irá acertar em suas previsões (com o MAE, MSE e o RMSE por ser mais robusto). E como métrica primaria, o R² irá apresentar em uma porcentagem o quanto nosso modelo poderá explicar as variações de notas IMDB durante as previsões."
   ]
  },
  {
   "cell_type": "code",
   "execution_count": null,
   "id": "004e3d40",
   "metadata": {},
   "outputs": [
    {
     "name": "stdout",
     "output_type": "stream",
     "text": [
      "Modelo Ridge treinado.\n"
     ]
    }
   ],
   "source": [
    "# Treinamento do modelo Ridge\n",
    "ridge_pipeline = Pipeline([\n",
    "    (\"scaler\", RobustScaler()),\n",
    "    (\"model\", Ridge())\n",
    "])\n",
    "\n",
    "ridge_params = {\n",
    "    \"model__alpha\": loguniform(0.01, 10),\n",
    "}\n",
    "\n",
    "ridge_model = RandomizedSearchCV(ridge_pipeline, ridge_params,\n",
    "                                  n_iter=100, cv=4, scoring=\"r2\", \n",
    "                                  random_state=42, n_jobs=-1)\n",
    "ridge_model.fit(X_train, y_train)\n",
    "print(\"Modelo Ridge treinado.\")"
   ]
  },
  {
   "cell_type": "code",
   "execution_count": 234,
   "id": "3450a979",
   "metadata": {},
   "outputs": [
    {
     "name": "stdout",
     "output_type": "stream",
     "text": [
      "Modelo: Ridge\n",
      "\n",
      "R²: 0.96\n",
      "Erro Absoluto Médio (MAE): 0.04\n",
      "Erro Quadrático Médio (MSE): 0.00\n",
      "Raiz do Erro Quadrático Médio (RMSE): 0.06\n",
      "\n",
      "Parâmetro com melhor resultado: {'model__alpha': np.float64(4.588156549160973)}\n",
      "\n",
      "\n"
     ]
    },
    {
     "data": {
      "image/png": "[encoded data removed]",
      "text/plain": [
       "<Figure size 800x600 with 1 Axes>"
      ]
     },
     "metadata": {},
     "output_type": "display_data"
    }
   ],
   "source": [
    "y_pred = ridge_model.predict(X_test)\n",
    "\n",
    "mae_ridge = mean_absolute_error(y_test, y_pred)\n",
    "mse_ridge = mean_squared_error(y_test, y_pred)\n",
    "rmse_ridge = np.sqrt(mse_ridge)\n",
    "r2_ridge = r2_score(y_test, y_pred)\n",
    "              \n",
    "print(\"Modelo: Ridge\\n\")\n",
    "print(f\"R²: {r2_ridge:.2f}\")\n",
    "print(f\"Erro Absoluto Médio (MAE): {mae_ridge:.2f}\")\n",
    "print(f\"Erro Quadrático Médio (MSE): {mse_ridge:.2f}\")\n",
    "print(f\"Raiz do Erro Quadrático Médio (RMSE): {rmse_ridge:.2f}\")\n",
    "print(f\"\\nParâmetro com melhor resultado: {ridge_model.best_params_}\")\n",
    "\n",
    "print(\"\\n\")\n",
    "plt.figure(figsize=(8, 6))\n",
    "sns.scatterplot(x=y_test, y=y_pred)\n",
    "plt.xlabel(\"Valores Reais\")\n",
    "plt.ylabel(\"Valores Previstos\")\n",
    "plt.title(\"Modelo Ridge Regression\\n\", fontweight='bold')\n",
    "\n",
    "plt.plot([min(y_test), max(y_test)], [min(y_test), max(y_test)], color='red', linestyle='--')\n",
    "plt.grid(True)\n",
    "plt.show()"
   ]
  },
  {
   "cell_type": "markdown",
   "id": "7b66b22e",
   "metadata": {},
   "source": [
    "O modelo atingiu um R² de 0.96, demonstrando que ele é capaz de explicar cerca de **96%** da variação de notas IMDB. Com o MAE em 0.04 e o RMSE em 0.06, indica que o modelo erra poucas avaliações durante suas previsões, sendo assim excelente para aplicar com novas entradas."
   ]
  },
  {
   "cell_type": "markdown",
   "id": "9e3f14f8",
   "metadata": {},
   "source": [
    "### Salvando o modelo"
   ]
  },
  {
   "cell_type": "markdown",
   "id": "de716e70",
   "metadata": {},
   "source": [
    "Para salvar o modelo, será necessário estabelecer uma regra de entrada para as futuras previsões com novos dados. Isso é necessário pois nosso modelo foi treinado com mais de 30 features e claramente não teremos a mesma quantidade de entrada. Por isso, vamos estebelecer essa regra se baseando com o dataframe inicial."
   ]
  },
  {
   "cell_type": "code",
   "execution_count": 235,
   "id": "11fe3cd9",
   "metadata": {},
   "outputs": [
    {
     "name": "stdout",
     "output_type": "stream",
     "text": [
      "Modelo salvo em: c:\\Users\\Thiag\\OneDrive\\Documentos\\Projetos Python\\LightHouse-DataScience\\models\\modelo_ridge.pkl\n"
     ]
    }
   ],
   "source": [
    "#Estabelecendo as features iniciais\n",
    "features_entrada = df.drop(columns=['IMDB_Rating']).columns.tolist()\n",
    "\n",
    "salvar_modelo = {\n",
    "    'pipeline': ridge_model,\n",
    "    'mlb_generos': mlb,\n",
    "    'certificate_cols': df_ml.filter(like='Cert_').columns.tolist(),\n",
    "    'features': df_ml.drop(columns=['IMDB_Rating']).columns.tolist(),\n",
    "    'media_diretor': nota_media_diretor,\n",
    "    'media_stars': nota_media_star,\n",
    "    'media_global': df_ml['IMDB_Rating'].mean()\n",
    "}\n",
    "\n",
    "#salvando modelo\n",
    "path = os.path.abspath(\"../models/modelo_ridge.pkl\")\n",
    "os.makedirs(os.path.dirname(path), exist_ok=True)\n",
    "\n",
    "with open(path, 'wb') as arquivo:\n",
    "    pickle.dump(salvar_modelo, arquivo)\n",
    "    print(f\"Modelo salvo em: {path}\")"
   ]
  },
  {
   "cell_type": "markdown",
   "id": "758baa72",
   "metadata": {},
   "source": [
    "### Aplicando modelo com novos dados"
   ]
  },
  {
   "cell_type": "markdown",
   "id": "b9e10e21",
   "metadata": {},
   "source": [
    "Abaixo, será elaborada uma extensa função utilizando todas as técnicas utilizadas no notebook para limpeza e engenharia de features. A função basicamente irá unificar todas as linhas que ja foram utilizadas no notebook. A ideia é carregar os dados no formato de dicionário, carregar as colunas do modelo treinado e fazer todas as transformações e engenharias de features, tornando cada coluna equivalente e apropriada para ficar compatível com o modelo.\n",
    "\n",
    "Em alguns casos, podem existir atores ou até mesmo diretores que o modelo ainda não viu e trazer um valor ausente, e para lidar com isso, vou adicionar a media global para evitar erros e sem enviesar negativamente ou positivamente o resultado.\n",
    "\n",
    "Apóis isso, será salvado o dicionario em uma versão final em um novo Dataframe para previsão da nota do IMDB"
   ]
  },
  {
   "cell_type": "code",
   "execution_count": null,
   "id": "b2ae3f70",
   "metadata": {},
   "outputs": [],
   "source": [
    "def prever_nota_filme(filmes, modelo_path=path):\n",
    "    \"\"\"\n",
    "    Recebe um dicionário de filmes\n",
    "    novos e retorna a nota prevista.\n",
    "    \"\"\"\n",
    "    with open(modelo_path, 'rb') as arquivo:\n",
    "        modelo = pickle.load(arquivo)\n",
    "    \n",
    "    pipeline = modelo['pipeline']\n",
    "    mlb_generos = modelo['mlb_generos']\n",
    "    features_entrada = modelo['features']\n",
    "    media_diretor = modelo['media_diretor']\n",
    "    media_stars = modelo['media_stars']\n",
    "    media_global = modelo['media_global']\n",
    "    \n",
    "    # Carrega o dicionario\n",
    "    df_novo = pd.DataFrame([filmes])\n",
    "    \n",
    "    # Lidando com as colunas que devem ser numericas\n",
    "    if 'Runtime' in df_novo.columns:\n",
    "        df_novo['Runtime'] = df_novo['Runtime'].str.replace(' min', '', regex=False).astype(int)\n",
    "    if 'Gross' in df_novo.columns:\n",
    "        df_novo['Gross'] = df_novo['Gross'].str.replace(',', '', regex=False).astype(float)\n",
    "    if 'Released_Year' in df_novo.columns:\n",
    "        df_novo['Released_Year'] = pd.to_numeric(df_novo['Released_Year'], errors='coerce').astype('Int64')\n",
    "    \n",
    "    # Processando o gênero\n",
    "    if 'Genre' in df_novo.columns:\n",
    "        generos_novo = df_novo['Genre'].apply(lambda x: [genero.strip() for genero in x.split(',')])\n",
    "        df_generos_novo = pd.DataFrame(mlb_generos.transform(generos_novo),\n",
    "                                       columns=mlb_generos.classes_,\n",
    "                                       index=df_novo.index)\n",
    "        df_novo = pd.concat([df_novo, df_generos_novo], axis=1)\n",
    "        df_novo.drop(columns='Genre', inplace=True)\n",
    "    \n",
    "    # obtendo os dummies da faixa etária\n",
    "    if 'Certificate' in df_novo.columns:\n",
    "        df_novo = pd.get_dummies(df_novo, columns=['Certificate'], prefix='Cert', dtype=int)\n",
    "    \n",
    "    # Nota imdb do diretor\n",
    "    if 'Director' in df_novo.columns:\n",
    "        df_novo['Director_Nota'] = df_novo['Director'].map(media_diretor).fillna(media_global)\n",
    "    \n",
    "    # Nota imdb dos atores em iteração\n",
    "    for i in range(1,5):\n",
    "        col = f'Star{i}'\n",
    "        nova_col = f'{col}_Nota'\n",
    "        if col in df_novo.columns and col in media_stars:\n",
    "            df_novo[nova_col] = df_novo[col].map(media_stars[col]).fillna(media_global)\n",
    "        else:\n",
    "            df_novo[nova_col] = media_global\n",
    "    \n",
    "    # garantir a existencia das colunas\n",
    "    for col in features_entrada:\n",
    "        if col not in df_novo.columns:\n",
    "            df_novo[col] = 0\n",
    "    \n",
    "    # preparando para previsao\n",
    "    df_novo = df_novo[features_entrada]\n",
    "    nota_prevista = pipeline.predict(df_novo)\n",
    "    return nota_prevista\n"
   ]
  },
  {
   "cell_type": "code",
   "execution_count": null,
   "id": "24184134",
   "metadata": {},
   "outputs": [
    {
     "name": "stdout",
     "output_type": "stream",
     "text": [
      "Título do filme: The Shawshank Redemption\n",
      "Nota IMDB: 8.14\n"
     ]
    }
   ],
   "source": [
    "# Dados do filme alvo para previsão\n",
    "filme = {\n",
    "    'Series_Title': 'The Shawshank Redemption',\n",
    "    'Released_Year': '1994',\n",
    "    'Certificate': 'A',\n",
    "    'Runtime': '142 min',\n",
    "    'Genre': 'Drama',\n",
    "    'Overview': 'Two imprisoned men bond over a number of years...',\n",
    "    'Meta_score': 80.0,\n",
    "    'Director': 'Frank Darabont',\n",
    "    'Star1': 'Tim Robbins',\n",
    "    'Star2': 'Morgan Freeman',\n",
    "    'Star3': 'Bob Gunton',\n",
    "    'Star4': 'William Sadler',\n",
    "    'No_of_Votes': 2343110,\n",
    "    'Gross': '28,341,469'\n",
    "}\n",
    "\n",
    "nota = prever_nota_filme(filme)\n",
    "print(f\"Título do filme: {filme['Series_Title']}\")\n",
    "print(f\"Nota IMDB: {nota[0]:.2f}\")\n"
   ]
  },
  {
   "cell_type": "markdown",
   "id": "a8f1294e",
   "metadata": {},
   "source": [
    "### Conclusão"
   ]
  },
  {
   "cell_type": "markdown",
   "id": "6a15329a",
   "metadata": {},
   "source": [
    "O filme **The Shawkshank Redeption** foi rotulado com uma nota IMDB de **8,14**. O modelo previu uma nota muito boa para esse filme, por mais que ele seja avaliado oficialmente dentro da casa dos nove, o modelo chegou proximo de acertar a previsão. Mesmo não sendo perfeito, podem existir muitas outras features que poderiam tornar o modelo ainda mais robusto, ou até mesmo explorar outros tipos de modelos com otimização de hiperparâmetros e técnicas direcionadas para uma precisão perfeita.\n",
    "\n",
    "Para o futuro deste projeto, existe a possibilidade de aplicações com diferentes modelos, criação de um script para automatizar a previsão em novos dados a partir de um ponto de extremidade de inferência em tempo real e o enriquecimento do dataset com novas entradas e novas features."
   ]
  }
 ],
 "metadata": {
  "kernelspec": {
   "display_name": ".venv",
   "language": "python",
   "name": "python3"
  },
  "language_info": {
   "codemirror_mode": {
    "name": "ipython",
    "version": 3
   },
   "file_extension": ".py",
   "mimetype": "text/x-python",
   "name": "python",
   "nbconvert_exporter": "python",
   "pygments_lexer": "ipython3",
   "version": "3.12.7"
  }
 },
 "nbformat": 4,
 "nbformat_minor": 5
}
